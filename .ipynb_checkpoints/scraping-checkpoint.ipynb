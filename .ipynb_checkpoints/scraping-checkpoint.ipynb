{
 "cells": [
  {
   "cell_type": "code",
   "execution_count": 2,
   "metadata": {},
   "outputs": [],
   "source": [
    "import requests"
   ]
  },
  {
   "cell_type": "code",
   "execution_count": 4,
   "metadata": {
    "pycharm": {
     "name": "#%%\n"
    }
   },
   "outputs": [],
   "source": [
    "url = \"https://example.com\"\n",
    "response = requests.get(url)"
   ]
  },
  {
   "cell_type": "code",
   "execution_count": 6,
   "metadata": {},
   "outputs": [
    {
     "name": "stdout",
     "output_type": "stream",
     "text": [
      "<!doctype html>\n",
      "<html>\n",
      "<head>\n",
      "    <title>Example Domain</title>\n",
      "\n",
      "    <meta charset=\"utf-8\" />\n",
      "    <meta http-equiv=\"Content-type\" content=\"text/html; charset=utf-8\" />\n",
      "    <meta name=\"viewport\" content=\"width=device-width, initial-scale=1\" />\n",
      "    <style type=\"text/css\">\n",
      "    body {\n",
      "        background-color: #f0f0f2;\n",
      "        margin: 0;\n",
      "        padding: 0;\n",
      "        font-family: -apple-system, system-ui, BlinkMacSystemFont, \"Segoe UI\", \"Open Sans\", \"Helvetica Neue\", Helvetica, Arial, sans-serif;\n",
      "        \n",
      "    }\n",
      "    div {\n",
      "        width: 600px;\n",
      "        margin: 5em auto;\n",
      "        padding: 2em;\n",
      "        background-color: #fdfdff;\n",
      "        border-radius: 0.5em;\n",
      "        box-shadow: 2px 3px 7px 2px rgba(0,0,0,0.02);\n",
      "    }\n",
      "    a:link, a:visited {\n",
      "        color: #38488f;\n",
      "        text-decoration: none;\n",
      "    }\n",
      "    @media (max-width: 700px) {\n",
      "        div {\n",
      "            margin: 0 auto;\n",
      "            width: auto;\n",
      "        }\n",
      "    }\n",
      "    </style>    \n",
      "</head>\n",
      "\n",
      "<body>\n",
      "<div>\n",
      "    <h1>Example Domain</h1>\n",
      "    <p>This domain is for use in illustrative examples in documents. You may use this\n",
      "    domain in literature without prior coordination or asking for permission.</p>\n",
      "    <p><a href=\"https://www.iana.org/domains/example\">More information...</a></p>\n",
      "</div>\n",
      "</body>\n",
      "</html>\n",
      "\n"
     ]
    }
   ],
   "source": [
    "print(response.text)"
   ]
  },
  {
   "cell_type": "code",
   "execution_count": 8,
   "metadata": {},
   "outputs": [],
   "source": [
    "from bs4 import BeautifulSoup"
   ]
  },
  {
   "cell_type": "code",
   "execution_count": 27,
   "metadata": {},
   "outputs": [],
   "source": [
    "soup = BeautifulSoup(response.text, \"html.parser\")"
   ]
  },
  {
   "cell_type": "code",
   "execution_count": 28,
   "metadata": {},
   "outputs": [
    {
     "data": {
      "text/plain": [
       "<h1>Example Domain</h1>"
      ]
     },
     "execution_count": 28,
     "metadata": {},
     "output_type": "execute_result"
    }
   ],
   "source": [
    "soup.find(\"h1\")"
   ]
  },
  {
   "cell_type": "code",
   "execution_count": 29,
   "metadata": {},
   "outputs": [
    {
     "data": {
      "text/plain": [
       "'Example Domain'"
      ]
     },
     "execution_count": 29,
     "metadata": {},
     "output_type": "execute_result"
    }
   ],
   "source": [
    "h1_tag = soup.find(\"h1\")\n",
    "h1_tag.get_text()"
   ]
  },
  {
   "cell_type": "code",
   "execution_count": 32,
   "metadata": {},
   "outputs": [
    {
     "data": {
      "text/plain": [
       "<p>This domain is for use in illustrative examples in documents. You may use this\n",
       "    domain in literature without prior coordination or asking for permission.</p>"
      ]
     },
     "execution_count": 32,
     "metadata": {},
     "output_type": "execute_result"
    }
   ],
   "source": [
    "soup.find(\"p\")"
   ]
  },
  {
   "cell_type": "code",
   "execution_count": 31,
   "metadata": {},
   "outputs": [
    {
     "data": {
      "text/plain": [
       "[<p>This domain is for use in illustrative examples in documents. You may use this\n",
       "     domain in literature without prior coordination or asking for permission.</p>,\n",
       " <p><a href=\"https://www.iana.org/domains/example\">More information...</a></p>]"
      ]
     },
     "execution_count": 31,
     "metadata": {},
     "output_type": "execute_result"
    }
   ],
   "source": [
    "soup.find_all(\"p\")"
   ]
  },
  {
   "cell_type": "code",
   "execution_count": 35,
   "metadata": {},
   "outputs": [
    {
     "data": {
      "text/plain": [
       "<a href=\"https://www.iana.org/domains/example\">More information...</a>"
      ]
     },
     "execution_count": 35,
     "metadata": {},
     "output_type": "execute_result"
    }
   ],
   "source": [
    "soup.find(\"a\")"
   ]
  },
  {
   "cell_type": "code",
   "execution_count": 36,
   "metadata": {},
   "outputs": [
    {
     "data": {
      "text/plain": [
       "'https://www.iana.org/domains/example'"
      ]
     },
     "execution_count": 36,
     "metadata": {},
     "output_type": "execute_result"
    }
   ],
   "source": [
    "a_tag = soup.find(\"a\")\n",
    "a_tag.get(\"href\")"
   ]
  },
  {
   "cell_type": "code",
   "execution_count": 37,
   "metadata": {},
   "outputs": [],
   "source": [
    "url = \"https://www.imdb.com/search/keyword/?keywords=action-hero&ref_=fn_al_kw_2\""
   ]
  },
  {
   "cell_type": "code",
   "execution_count": 38,
   "metadata": {},
   "outputs": [],
   "source": [
    "response = requests.get(url)"
   ]
  },
  {
   "cell_type": "code",
   "execution_count": 39,
   "metadata": {},
   "outputs": [
    {
     "data": {
      "text/plain": [
       "200"
      ]
     },
     "execution_count": 39,
     "metadata": {},
     "output_type": "execute_result"
    }
   ],
   "source": [
    "response.status_code"
   ]
  },
  {
   "cell_type": "code",
   "execution_count": 41,
   "metadata": {},
   "outputs": [],
   "source": [
    "soup = BeautifulSoup(response.text, \"html.parser\")"
   ]
  },
  {
   "cell_type": "code",
   "execution_count": 42,
   "metadata": {},
   "outputs": [
    {
     "name": "stdout",
     "output_type": "stream",
     "text": [
      "<div id=\"02ff3bfd-ec41-4395-95d6-07b87f34f956\">\n",
      "<nav class=\"FHCtKBINjbqzCITNiccU0 imdb-header imdb-header--react Root__Header-sc-7p0yen-0 gwOpQB\" id=\"imdbHeader\"><div class=\"imdb-header__login-state-node\" id=\"nblogin\"></div><div class=\"ipc-page-content-container ipc-page-content-container--center navbar__inner\" role=\"presentation\"><label aria-disabled=\"false\" aria-label=\"Open Navigation Drawer\" class=\"ipc-icon-button jOOJQ0waXoTX6ZSthGtum HamburgerMenu-k5mvoq-0 erYeKd mobile ipc-icon-button--baseAlt ipc-icon-button--onBase\" for=\"imdbHeader-navDrawer\" id=\"imdbHeader-navDrawerOpen\" role=\"button\" tabindex=\"0\" title=\"Open Navigation Drawer\"><svg class=\"ipc-icon ipc-icon--menu\" fill=\"currentColor\" height=\"24\" role=\"presentation\" viewbox=\"0 0 24 24\" width=\"24\" xmlns=\"http://www.w3.org/2000/svg\"><path d=\"M0 0h24v24H0V0z\" fill=\"none\"></path><path d=\"M4 18h16c.55 0 1-.45 1-1s-.45-1-1-1H4c-.55 0-1 .45-1 1s.45 1 1 1zm0-5h16c.55 0 1-.45 1-1s-.45-1-1-1H4c-.55 0-1 .45-1 1s.45 1 1 1zM3 7c0 .55.45 1 1 1h16c.55 0 1-.45 1-1s-.45-1-1-1H4c-.55 0-1 .45-1 1z\"></path></svg></label><label aria-disabled=\"false\" aria-label=\"Open Navigation Drawer\" class=\"ipc-button ipc-button--single-padding ipc-button--default-height ipc-button--core-baseAlt ipc-button--theme-baseAlt ipc-button--on-textPrimary ipc-text-button jOOJQ0waXoTX6ZSthGtum HamburgerMenu-k5mvoq-0 erYeKd desktop\" for=\"imdbHeader-navDrawer\" id=\"imdbHeader-navDrawerOpen--desktop\" role=\"button\" tabindex=\"0\"><svg class=\"ipc-icon ipc-icon--menu ipc-button__icon ipc-button__icon--pre\" fill=\"currentColor\" height=\"24\" role=\"presentation\" viewbox=\"0 0 24 24\" width=\"24\" xmlns=\"http://www.w3.org/2000/svg\"><path d=\"M0 0h24v24H0V0z\" fill=\"none\"></path><path d=\"M4 18h16c.55 0 1-.45 1-1s-.45-1-1-1H4c-.55 0-1 .45-1 1s.45 1 1 1zm0-5h16c.55 0 1-.45 1-1s-.45-1-1-1H4c-.55 0-1 .45-1 1s.45 1 1 1zM3 7c0 .55.45 1 1 1h16c.55 0 1-.45 1-1s-.45-1-1-1H4c-.55 0-1 .45-1 1z\"></path></svg><div class=\"ipc-button__text\">Menu</div></label><input aria-hidden=\"true\" class=\"_146x-LuQBSfM9yosRvjSGF\" hidden=\"\" id=\"imdbHeader-navDrawer\" name=\"imdbHeader-navDrawer\" type=\"checkbox\"/><aside class=\"_14--k36qjjvLW3hUWHDPb_ _32i38MKalFVUkNAqPm88ln imdb-header__nav-drawer Drawer__StyledContainer-sc-1h7cs9y-0 bkeTFm\" data-testid=\"drawer\" role=\"presentation\"><div aria-hidden=\"true\" class=\"iRO9SK-8q3D8_287dhn28\" data-testid=\"panel\" role=\"presentation\"><div class=\"_3rHHDKyPLOjL8tGKHWMRza\" data-testid=\"panel-header\" role=\"presentation\"><a href=\"/?ref_=nv_home\"><svg class=\"ipc-logo WNY8DBPCS1ZbiSd7NoqdP\" height=\"56\" version=\"1.1\" viewbox=\"0 0 64 32\" width=\"98\" xmlns=\"http://www.w3.org/2000/svg\"><g fill=\"#F5C518\"><rect height=\"100%\" rx=\"4\" width=\"100%\" x=\"0\" y=\"0\"></rect></g><g fill=\"#000000\" fill-rule=\"nonzero\" transform=\"translate(8.000000, 7.000000)\"><polygon points=\"0 18 5 18 5 0 0 0\"></polygon><path d=\"M15.6725178,0 L14.5534833,8.40846934 L13.8582008,3.83502426 C13.65661,2.37009263 13.4632474,1.09175121 13.278113,0 L7,0 L7,18 L11.2416347,18 L11.2580911,6.11380679 L13.0436094,18 L16.0633571,18 L17.7583653,5.8517865 L17.7707076,18 L22,18 L22,0 L15.6725178,0 Z\"></path><path d=\"M24,18 L24,0 L31.8045586,0 C33.5693522,0 35,1.41994415 35,3.17660424 L35,14.8233958 C35,16.5777858 33.5716617,18 31.8045586,18 L24,18 Z M29.8322479,3.2395236 C29.6339219,3.13233348 29.2545158,3.08072342 28.7026524,3.08072342 L28.7026524,14.8914865 C29.4312846,14.8914865 29.8796736,14.7604764 30.0478195,14.4865461 C30.2159654,14.2165858 30.3021941,13.486105 30.3021941,12.2871637 L30.3021941,5.3078959 C30.3021941,4.49404499 30.272014,3.97397442 30.2159654,3.74371416 C30.1599168,3.5134539 30.0348852,3.34671372 29.8322479,3.2395236 Z\"></path><path d=\"M44.4299079,4.50685823 L44.749518,4.50685823 C46.5447098,4.50685823 48,5.91267586 48,7.64486762 L48,14.8619906 C48,16.5950653 46.5451816,18 44.749518,18 L44.4299079,18 C43.3314617,18 42.3602746,17.4736618 41.7718697,16.6682739 L41.4838962,17.7687785 L37,17.7687785 L37,0 L41.7843263,0 L41.7843263,5.78053556 C42.4024982,5.01015739 43.3551514,4.50685823 44.4299079,4.50685823 Z M43.4055679,13.2842155 L43.4055679,9.01907814 C43.4055679,8.31433946 43.3603268,7.85185468 43.2660746,7.63896485 C43.1718224,7.42607505 42.7955881,7.2893916 42.5316822,7.2893916 C42.267776,7.2893916 41.8607934,7.40047379 41.7816216,7.58767002 L41.7816216,9.01907814 L41.7816216,13.4207851 L41.7816216,14.8074788 C41.8721037,15.0130276 42.2602358,15.1274059 42.5316822,15.1274059 C42.8031285,15.1274059 43.1982131,15.0166981 43.281155,14.8074788 C43.3640968,14.5982595 43.4055679,14.0880581 43.4055679,13.2842155 Z\"></path></g></svg></a><label aria-disabled=\"false\" aria-label=\"Close Navigation Drawer\" class=\"ipc-icon-button _2RzUkzyrsjx_BPIQ5uoj5s ipc-icon-button--baseAlt ipc-icon-button--onBase\" for=\"imdbHeader-navDrawer\" role=\"button\" tabindex=\"0\" title=\"Close Navigation Drawer\"><svg class=\"ipc-icon ipc-icon--clear\" fill=\"currentColor\" height=\"24\" role=\"presentation\" viewbox=\"0 0 24 24\" width=\"24\" xmlns=\"http://www.w3.org/2000/svg\"><path d=\"M0 0h24v24H0V0z\" fill=\"none\"></path><path d=\"M18.3 5.71a.996.996 0 0 0-1.41 0L12 10.59 7.11 5.7A.996.996 0 1 0 5.7 7.11L10.59 12 5.7 16.89a.996.996 0 1 0 1.41 1.41L12 13.41l4.89 4.89a.996.996 0 1 0 1.41-1.41L13.41 12l4.89-4.89c.38-.38.38-1.02 0-1.4z\"></path></svg></label></div><div class=\"_3bRJYEaOz1BKUQYqW6yb29\" data-testid=\"panel-content\" role=\"presentation\"><div class=\"_3wpok4xkiX-9E61ruFL_RA NavLinkCategoryList__StyledContainer-sc-13vymju-0 diDBNJ\" role=\"presentation\"><li class=\"ipc-list-divider _1cBEhLbHn9YeCkfPvo9USU\" role=\"separator\"></li><div class=\"_2BpsDlqEMlo9unX-C84Nji NavLinkCategory__StyledContainer-sc-1zvm8t-0 eWjUDO\" data-testid=\"nav-link-category\" role=\"presentation\"><input aria-hidden=\"true\" class=\"s6lVaL5MYgQM-fYJ9KWp7\" data-category-id=\"mov\" hidden=\"\" id=\"nav-link-categories-mov\" name=\"nav-categories-list\" tabindex=\"-1\" type=\"radio\"/><span class=\"_2Q0QZxgQqVpU0nQBqv1xlY\"><label aria-label=\"Expand Movies Nav Links\" class=\"_2vjThdvAXrHx6CofJjm03w\" data-testid=\"category-expando\" for=\"nav-link-categories-mov\" role=\"button\" tabindex=\"0\"><span class=\"_1tLXJMH37mh4UmvfVF8swF\"><svg class=\"ipc-icon ipc-icon--movie\" fill=\"currentColor\" height=\"24\" role=\"presentation\" viewbox=\"0 0 24 24\" width=\"24\" xmlns=\"http://www.w3.org/2000/svg\"><path d=\"M0 0h24v24H0V0z\" fill=\"none\"></path><path d=\"M18 4v1h-2V4c0-.55-.45-1-1-1H9c-.55 0-1 .45-1 1v1H6V4c0-.55-.45-1-1-1s-1 .45-1 1v16c0 .55.45 1 1 1s1-.45 1-1v-1h2v1c0 .55.45 1 1 1h6c.55 0 1-.45 1-1v-1h2v1c0 .55.45 1 1 1s1-.45 1-1V4c0-.55-.45-1-1-1s-1 .45-1 1zM8 17H6v-2h2v2zm0-4H6v-2h2v2zm0-4H6V7h2v2zm10 8h-2v-2h2v2zm0-4h-2v-2h2v2zm0-4h-2V7h2v2z\"></path></svg></span><span class=\"_2aunAih-uMfbdgTUIjnQMd\">Movies</span><span class=\"_2BeDp2pKthfMnxArm4lS0T\"><svg class=\"ipc-icon ipc-icon--chevron-right\" fill=\"currentColor\" height=\"24\" role=\"presentation\" viewbox=\"0 0 24 24\" width=\"24\" xmlns=\"http://www.w3.org/2000/svg\"><path d=\"M0 0h24v24H0V0z\" fill=\"none\"></path><path d=\"M9.29 6.71a.996.996 0 0 0 0 1.41L13.17 12l-3.88 3.88a.996.996 0 1 0 1.41 1.41l4.59-4.59a.996.996 0 0 0 0-1.41L10.7 6.7c-.38-.38-1.02-.38-1.41.01z\"></path></svg></span></label><div aria-expanded=\"false\" aria-hidden=\"true\" class=\"_1S9IOoNAVMPB2VikET3Lr2\" data-testid=\"list-container\"><div class=\"_1IQgIe3JwGh2arzItRgYN3\" role=\"presentation\"><ul aria-orientation=\"vertical\" class=\"ipc-list _1gB7giE3RrFWXvlzwjWk-q ipc-list--baseAlt\" role=\"menu\"><a aria-disabled=\"false\" class=\"ipc-list__item nav-link NavLink-sc-19k0khm-0 LrpYY ipc-list__item--indent-one\" href=\"https://www.imdb.com/calendar/?ref_=nv_mv_cal\" role=\"menuitem\" tabindex=\"-1\"><span class=\"ipc-list-item__text\" role=\"presentation\">Release Calendar</span></a><a aria-disabled=\"false\" class=\"ipc-list__item nav-link nav-link--hideXS nav-link--hideS nav-link--hideM NavLink-sc-19k0khm-0 LrpYY ipc-list__item--indent-one\" href=\"https://www.imdb.com/list/ls016522954/?ref_=nv_tvv_dvd\" role=\"menuitem\" tabindex=\"-1\"><span class=\"ipc-list-item__text\" role=\"presentation\">DVD &amp; Blu-ray Releases</span></a><a aria-disabled=\"false\" class=\"ipc-list__item nav-link NavLink-sc-19k0khm-0 LrpYY ipc-list__item--indent-one\" href=\"/chart/top/?ref_=nv_mv_250\" role=\"menuitem\" tabindex=\"-1\"><span class=\"ipc-list-item__text\" role=\"presentation\">Top Rated Movies</span></a><a aria-disabled=\"false\" class=\"ipc-list__item nav-link NavLink-sc-19k0khm-0 LrpYY ipc-list__item--indent-one\" href=\"/chart/moviemeter/?ref_=nv_mv_mpm\" role=\"menuitem\" tabindex=\"-1\"><span class=\"ipc-list-item__text\" role=\"presentation\">Most Popular Movies</span></a><a aria-disabled=\"false\" class=\"ipc-list__item nav-link nav-link--hideXS nav-link--hideS nav-link--hideM NavLink-sc-19k0khm-0 LrpYY ipc-list__item--indent-one\" href=\"https://www.imdb.com/feature/genre/?ref_=nv_ch_gr\" role=\"menuitem\" tabindex=\"-1\"><span class=\"ipc-list-item__text\" role=\"presentation\">Browse Movies by Genre</span></a><a aria-disabled=\"false\" class=\"ipc-list__item nav-link NavLink-sc-19k0khm-0 LrpYY ipc-list__item--indent-one\" href=\"/chart/boxoffice/?ref_=nv_ch_cht\" role=\"menuitem\" tabindex=\"-1\"><span class=\"ipc-list-item__text\" role=\"presentation\">Top Box Office</span></a><a aria-disabled=\"false\" class=\"ipc-list__item nav-link nav-link--hideL nav-link--hideXL NavLink-sc-19k0khm-0 LrpYY ipc-list__item--indent-one\" href=\"https://m.imdb.com/showtimes/movie/?ref_=nv_mv_sh\" role=\"menuitem\" tabindex=\"-1\"><span class=\"ipc-list-item__text\" role=\"presentation\">Showtimes &amp; Tickets</span></a><a aria-disabled=\"false\" class=\"ipc-list__item nav-link nav-link--hideXS nav-link--hideS nav-link--hideM NavLink-sc-19k0khm-0 LrpYY ipc-list__item--indent-one\" href=\"https://www.imdb.com/showtimes/?ref_=nv_mv_sh\" role=\"menuitem\" tabindex=\"-1\"><span class=\"ipc-list-item__text\" role=\"presentation\">Showtimes &amp; Tickets</span></a><a aria-disabled=\"false\" class=\"ipc-list__item nav-link nav-link--hideXS nav-link--hideS nav-link--hideM NavLink-sc-19k0khm-0 LrpYY ipc-list__item--indent-one\" href=\"https://www.imdb.com/movies-in-theaters/?ref_=nv_mv_inth\" role=\"menuitem\" tabindex=\"-1\"><span class=\"ipc-list-item__text\" role=\"presentation\">In Theaters</span></a><a aria-disabled=\"false\" class=\"ipc-list__item nav-link nav-link--hideL nav-link--hideXL NavLink-sc-19k0khm-0 LrpYY ipc-list__item--indent-one\" href=\"https://m.imdb.com/coming-soon/?ref_=nv_mv_cs\" role=\"menuitem\" tabindex=\"-1\"><span class=\"ipc-list-item__text\" role=\"presentation\">Coming Soon</span></a><a aria-disabled=\"false\" class=\"ipc-list__item nav-link nav-link--hideXS nav-link--hideS nav-link--hideM NavLink-sc-19k0khm-0 LrpYY ipc-list__item--indent-one\" href=\"https://www.imdb.com/coming-soon/?ref_=nv_mv_cs\" role=\"menuitem\" tabindex=\"-1\"><span class=\"ipc-list-item__text\" role=\"presentation\">Coming Soon</span></a><a aria-disabled=\"false\" class=\"ipc-list__item nav-link NavLink-sc-19k0khm-0 LrpYY ipc-list__item--indent-one\" href=\"/news/movie/?ref_=nv_nw_mv\" role=\"menuitem\" tabindex=\"-1\"><span class=\"ipc-list-item__text\" role=\"presentation\">Movie News</span></a><a aria-disabled=\"false\" class=\"ipc-list__item nav-link NavLink-sc-19k0khm-0 LrpYY ipc-list__item--indent-one\" href=\"/india/toprated/?ref_=nv_mv_in\" role=\"menuitem\" tabindex=\"-1\"><span class=\"ipc-list-item__text\" role=\"presentation\">India Movie Spotlight</span></a></ul></div></div></span></div><div class=\"NavDynamicCategoryList__CategoryGroupContainer-f186ms-0 dzfmPm\" data-testid=\"grouped-link-category\"><div class=\"_2BpsDlqEMlo9unX-C84Nji NavLinkCategory__StyledContainer-sc-1zvm8t-0 eWjUDO\" data-testid=\"nav-link-category\" role=\"presentation\"><input aria-hidden=\"true\" class=\"s6lVaL5MYgQM-fYJ9KWp7\" data-category-id=\"tvshows\" hidden=\"\" id=\"nav-link-categories-tvshows\" name=\"nav-categories-list\" tabindex=\"-1\" type=\"radio\"/><span class=\"_2Q0QZxgQqVpU0nQBqv1xlY\"><label aria-label=\"Expand TV Shows Nav Links\" class=\"_2vjThdvAXrHx6CofJjm03w\" data-testid=\"category-expando\" for=\"nav-link-categories-tvshows\" role=\"button\" tabindex=\"0\"><span class=\"_1tLXJMH37mh4UmvfVF8swF\"><svg class=\"ipc-icon ipc-icon--television\" fill=\"currentColor\" height=\"24\" role=\"presentation\" viewbox=\"0 0 24 24\" width=\"24\" xmlns=\"http://www.w3.org/2000/svg\"><path d=\"M0 0h24v24H0V0z\" fill=\"none\"></path><path d=\"M21 3H3c-1.1 0-2 .9-2 2v12c0 1.1.9 2 2 2h5v1c0 .55.45 1 1 1h6c.55 0 1-.45 1-1v-1h5c1.1 0 1.99-.9 1.99-2L23 5a2 2 0 0 0-2-2zm-1 14H4c-.55 0-1-.45-1-1V6c0-.55.45-1 1-1h16c.55 0 1 .45 1 1v10c0 .55-.45 1-1 1z\"></path></svg></span><span class=\"_2aunAih-uMfbdgTUIjnQMd\">TV Shows</span><span class=\"_2BeDp2pKthfMnxArm4lS0T\"><svg class=\"ipc-icon ipc-icon--chevron-right\" fill=\"currentColor\" height=\"24\" role=\"presentation\" viewbox=\"0 0 24 24\" width=\"24\" xmlns=\"http://www.w3.org/2000/svg\"><path d=\"M0 0h24v24H0V0z\" fill=\"none\"></path><path d=\"M9.29 6.71a.996.996 0 0 0 0 1.41L13.17 12l-3.88 3.88a.996.996 0 1 0 1.41 1.41l4.59-4.59a.996.996 0 0 0 0-1.41L10.7 6.7c-.38-.38-1.02-.38-1.41.01z\"></path></svg></span></label><div aria-expanded=\"false\" aria-hidden=\"true\" class=\"_1S9IOoNAVMPB2VikET3Lr2\" data-testid=\"list-container\"><div class=\"_1IQgIe3JwGh2arzItRgYN3\" role=\"presentation\"><ul aria-orientation=\"vertical\" class=\"ipc-list _1gB7giE3RrFWXvlzwjWk-q ipc-list--baseAlt\" role=\"menu\"><a aria-disabled=\"false\" class=\"ipc-list__item nav-link nav-link--hideXS nav-link--hideS nav-link--hideM NavLink-sc-19k0khm-0 LrpYY ipc-list__item--indent-one\" href=\"https://www.imdb.com/whats-on-tv/?ref_=nv_tv_ontv\" role=\"menuitem\" tabindex=\"-1\"><span class=\"ipc-list-item__text\" role=\"presentation\">What's on TV &amp; Streaming</span></a><a aria-disabled=\"false\" class=\"ipc-list__item nav-link nav-link--hideL nav-link--hideXL NavLink-sc-19k0khm-0 LrpYY ipc-list__item--indent-one\" href=\"https://m.imdb.com/whats-on-tv/?ref_=nv_tv_ontv\" role=\"menuitem\" tabindex=\"-1\"><span class=\"ipc-list-item__text\" role=\"presentation\">What's on TV &amp; Streaming</span></a><a aria-disabled=\"false\" class=\"ipc-list__item nav-link NavLink-sc-19k0khm-0 LrpYY ipc-list__item--indent-one\" href=\"/chart/toptv/?ref_=nv_tvv_250\" role=\"menuitem\" tabindex=\"-1\"><span class=\"ipc-list-item__text\" role=\"presentation\">Top Rated Shows</span></a><a aria-disabled=\"false\" class=\"ipc-list__item nav-link NavLink-sc-19k0khm-0 LrpYY ipc-list__item--indent-one\" href=\"/chart/tvmeter/?ref_=nv_tvv_mptv\" role=\"menuitem\" tabindex=\"-1\"><span class=\"ipc-list-item__text\" role=\"presentation\">Most Popular Shows</span></a><a aria-disabled=\"false\" class=\"ipc-list__item nav-link nav-link--hideXS nav-link--hideS nav-link--hideM NavLink-sc-19k0khm-0 LrpYY ipc-list__item--indent-one\" href=\"https://www.imdb.com/feature/genre/?ref_=nv_tv_gr\" role=\"menuitem\" tabindex=\"-1\"><span class=\"ipc-list-item__text\" role=\"presentation\">Browse TV Shows by Genre</span></a><a aria-disabled=\"false\" class=\"ipc-list__item nav-link NavLink-sc-19k0khm-0 LrpYY ipc-list__item--indent-one\" href=\"/news/tv/?ref_=nv_nw_tv\" role=\"menuitem\" tabindex=\"-1\"><span class=\"ipc-list-item__text\" role=\"presentation\">TV News</span></a><a aria-disabled=\"false\" class=\"ipc-list__item nav-link NavLink-sc-19k0khm-0 LrpYY ipc-list__item--indent-one\" href=\"/india/tv?ref_=nv_tv_in\" role=\"menuitem\" tabindex=\"-1\"><span class=\"ipc-list-item__text\" role=\"presentation\">India TV Spotlight</span></a></ul></div></div></span></div><div class=\"_2BpsDlqEMlo9unX-C84Nji NavLinkCategory__StyledContainer-sc-1zvm8t-0 eWjUDO\" data-testid=\"nav-link-category\" role=\"presentation\"><input aria-hidden=\"true\" class=\"s6lVaL5MYgQM-fYJ9KWp7\" data-category-id=\"video\" hidden=\"\" id=\"nav-link-categories-video\" name=\"nav-categories-list\" tabindex=\"-1\" type=\"radio\"/><span class=\"_2Q0QZxgQqVpU0nQBqv1xlY\"><label aria-label=\"Expand Watch Nav Links\" class=\"_2vjThdvAXrHx6CofJjm03w\" data-testid=\"category-expando\" for=\"nav-link-categories-video\" role=\"button\" tabindex=\"0\"><span class=\"_1tLXJMH37mh4UmvfVF8swF\"><svg class=\"ipc-icon ipc-icon--video-library\" fill=\"currentColor\" height=\"24\" role=\"presentation\" viewbox=\"0 0 24 24\" width=\"24\" xmlns=\"http://www.w3.org/2000/svg\"><path d=\"M3 6c-.55 0-1 .45-1 1v13c0 1.1.9 2 2 2h13c.55 0 1-.45 1-1s-.45-1-1-1H5c-.55 0-1-.45-1-1V7c0-.55-.45-1-1-1zm17-4H8c-1.1 0-2 .9-2 2v12c0 1.1.9 2 2 2h12c1.1 0 2-.9 2-2V4c0-1.1-.9-2-2-2zm-8 12.5v-9l5.47 4.1c.27.2.27.6 0 .8L12 14.5z\"></path></svg></span><span class=\"_2aunAih-uMfbdgTUIjnQMd\">Watch</span><span class=\"_2BeDp2pKthfMnxArm4lS0T\"><svg class=\"ipc-icon ipc-icon--chevron-right\" fill=\"currentColor\" height=\"24\" role=\"presentation\" viewbox=\"0 0 24 24\" width=\"24\" xmlns=\"http://www.w3.org/2000/svg\"><path d=\"M0 0h24v24H0V0z\" fill=\"none\"></path><path d=\"M9.29 6.71a.996.996 0 0 0 0 1.41L13.17 12l-3.88 3.88a.996.996 0 1 0 1.41 1.41l4.59-4.59a.996.996 0 0 0 0-1.41L10.7 6.7c-.38-.38-1.02-.38-1.41.01z\"></path></svg></span></label><div aria-expanded=\"false\" aria-hidden=\"true\" class=\"_1S9IOoNAVMPB2VikET3Lr2\" data-testid=\"list-container\"><div class=\"_1IQgIe3JwGh2arzItRgYN3\" role=\"presentation\"><ul aria-orientation=\"vertical\" class=\"ipc-list _1gB7giE3RrFWXvlzwjWk-q ipc-list--baseAlt\" role=\"menu\"><a aria-disabled=\"false\" class=\"ipc-list__item nav-link NavLink-sc-19k0khm-0 LrpYY ipc-list__item--indent-one\" href=\"/what-to-watch/?ref_=nv_watch\" role=\"menuitem\" tabindex=\"-1\"><span class=\"ipc-list-item__text\" role=\"presentation\">What to Watch</span></a><a aria-disabled=\"false\" class=\"ipc-list__item nav-link NavLink-sc-19k0khm-0 LrpYY ipc-list__item--indent-one\" href=\"/trailers/?ref_=nv_mv_tr\" role=\"menuitem\" tabindex=\"-1\"><span class=\"ipc-list-item__text\" role=\"presentation\">Latest Trailers</span></a><a aria-disabled=\"false\" class=\"ipc-list__item nav-link NavLink-sc-19k0khm-0 LrpYY ipc-list__item--indent-one\" href=\"/originals/?ref_=nv_sf_ori\" role=\"menuitem\" tabindex=\"-1\"><span class=\"ipc-list-item__text\" role=\"presentation\">IMDb Originals</span></a><a aria-disabled=\"false\" class=\"ipc-list__item nav-link NavLink-sc-19k0khm-0 LrpYY ipc-list__item--indent-one\" href=\"/imdbpicks/?ref_=nv_pi\" role=\"menuitem\" tabindex=\"-1\"><span class=\"ipc-list-item__text\" role=\"presentation\">IMDb Picks</span></a><a aria-disabled=\"false\" class=\"ipc-list__item nav-link NavLink-sc-19k0khm-0 LrpYY ipc-list__item--indent-one\" href=\"/podcasts/?ref_=nv_pod\" role=\"menuitem\" tabindex=\"-1\"><span class=\"ipc-list-item__text\" role=\"presentation\">IMDb Podcasts</span></a></ul></div></div></span></div></div><div class=\"_2BpsDlqEMlo9unX-C84Nji NavLinkCategory__StyledContainer-sc-1zvm8t-0 eWjUDO\" data-testid=\"nav-link-category\" role=\"presentation\"><input aria-hidden=\"true\" class=\"s6lVaL5MYgQM-fYJ9KWp7\" data-category-id=\"awards\" hidden=\"\" id=\"nav-link-categories-awards\" name=\"nav-categories-list\" tabindex=\"-1\" type=\"radio\"/><span class=\"_2Q0QZxgQqVpU0nQBqv1xlY\"><label aria-label=\"Expand Awards &amp; Events Nav Links\" class=\"_2vjThdvAXrHx6CofJjm03w\" data-testid=\"category-expando\" for=\"nav-link-categories-awards\" role=\"button\" tabindex=\"0\"><span class=\"_1tLXJMH37mh4UmvfVF8swF\"><svg class=\"ipc-icon ipc-icon--star-circle-filled\" fill=\"currentColor\" height=\"24\" role=\"presentation\" viewbox=\"0 0 24 24\" width=\"24\" xmlns=\"http://www.w3.org/2000/svg\"><path d=\"M0 0h24v24H0V0z\" fill=\"none\"></path><path d=\"M11.99 2C6.47 2 2 6.48 2 12s4.47 10 9.99 10C17.52 22 22 17.52 22 12S17.52 2 11.99 2zm3.23 15.39L12 15.45l-3.22 1.94a.502.502 0 0 1-.75-.54l.85-3.66-2.83-2.45a.505.505 0 0 1 .29-.88l3.74-.32 1.46-3.45c.17-.41.75-.41.92 0l1.46 3.44 3.74.32a.5.5 0 0 1 .28.88l-2.83 2.45.85 3.67c.1.43-.36.77-.74.54z\"></path></svg></span><span class=\"_2aunAih-uMfbdgTUIjnQMd\">Awards &amp; Events</span><span class=\"_2BeDp2pKthfMnxArm4lS0T\"><svg class=\"ipc-icon ipc-icon--chevron-right\" fill=\"currentColor\" height=\"24\" role=\"presentation\" viewbox=\"0 0 24 24\" width=\"24\" xmlns=\"http://www.w3.org/2000/svg\"><path d=\"M0 0h24v24H0V0z\" fill=\"none\"></path><path d=\"M9.29 6.71a.996.996 0 0 0 0 1.41L13.17 12l-3.88 3.88a.996.996 0 1 0 1.41 1.41l4.59-4.59a.996.996 0 0 0 0-1.41L10.7 6.7c-.38-.38-1.02-.38-1.41.01z\"></path></svg></span></label><div aria-expanded=\"false\" aria-hidden=\"true\" class=\"_1S9IOoNAVMPB2VikET3Lr2\" data-testid=\"list-container\"><div class=\"_1IQgIe3JwGh2arzItRgYN3\" role=\"presentation\"><ul aria-orientation=\"vertical\" class=\"ipc-list _1gB7giE3RrFWXvlzwjWk-q ipc-list--baseAlt\" role=\"menu\"><a aria-disabled=\"false\" class=\"ipc-list__item nav-link NavLink-sc-19k0khm-0 LrpYY ipc-list__item--indent-one\" href=\"/oscars/?ref_=nv_ev_acd\" role=\"menuitem\" tabindex=\"-1\"><span class=\"ipc-list-item__text\" role=\"presentation\">Oscars</span></a><a aria-disabled=\"false\" class=\"ipc-list__item nav-link nav-link--hideL nav-link--hideXL NavLink-sc-19k0khm-0 LrpYY ipc-list__item--indent-one\" href=\"https://m.imdb.com/feature/bestpicture/?ref_=nv_ch_osc\" role=\"menuitem\" tabindex=\"-1\"><span class=\"ipc-list-item__text\" role=\"presentation\">Best Picture Winners</span></a><a aria-disabled=\"false\" class=\"ipc-list__item nav-link nav-link--hideXS nav-link--hideS nav-link--hideM NavLink-sc-19k0khm-0 LrpYY ipc-list__item--indent-one\" href=\"https://www.imdb.com/search/title/?count=100&amp;groups=oscar_best_picture_winners&amp;sort=year%2Cdesc&amp;ref_=nv_ch_osc\" role=\"menuitem\" tabindex=\"-1\"><span class=\"ipc-list-item__text\" role=\"presentation\">Best Picture Winners</span></a><a aria-disabled=\"false\" class=\"ipc-list__item nav-link NavLink-sc-19k0khm-0 LrpYY ipc-list__item--indent-one\" href=\"/golden-globes/?ref_=nv_ev_gg\" role=\"menuitem\" tabindex=\"-1\"><span class=\"ipc-list-item__text\" role=\"presentation\">Golden Globes</span></a><a aria-disabled=\"false\" class=\"ipc-list__item nav-link NavLink-sc-19k0khm-0 LrpYY ipc-list__item--indent-one\" href=\"/emmys/?ref_=nv_ev_rte\" role=\"menuitem\" tabindex=\"-1\"><span class=\"ipc-list-item__text\" role=\"presentation\">Emmys</span></a><a aria-disabled=\"false\" class=\"ipc-list__item nav-link NavLink-sc-19k0khm-0 LrpYY ipc-list__item--indent-one\" href=\"/starmeterawards/?ref_=nv_ev_sma\" role=\"menuitem\" tabindex=\"-1\"><span class=\"ipc-list-item__text\" role=\"presentation\">STARmeter Awards</span></a><a aria-disabled=\"false\" class=\"ipc-list__item nav-link NavLink-sc-19k0khm-0 LrpYY ipc-list__item--indent-one\" href=\"/comic-con/?ref_=nv_ev_comic\" role=\"menuitem\" tabindex=\"-1\"><span class=\"ipc-list-item__text\" role=\"presentation\">San Diego Comic-Con</span></a><a aria-disabled=\"false\" class=\"ipc-list__item nav-link NavLink-sc-19k0khm-0 LrpYY ipc-list__item--indent-one\" href=\"/nycc/?ref_=nv_ev_nycc\" role=\"menuitem\" tabindex=\"-1\"><span class=\"ipc-list-item__text\" role=\"presentation\">New York Comic-Con</span></a><a aria-disabled=\"false\" class=\"ipc-list__item nav-link NavLink-sc-19k0khm-0 LrpYY ipc-list__item--indent-one\" href=\"/sundance/?ref_=nv_ev_sun\" role=\"menuitem\" tabindex=\"-1\"><span class=\"ipc-list-item__text\" role=\"presentation\">Sundance Film Festival</span></a><a aria-disabled=\"false\" class=\"ipc-list__item nav-link NavLink-sc-19k0khm-0 LrpYY ipc-list__item--indent-one\" href=\"/toronto/?ref_=nv_ev_tor\" role=\"menuitem\" tabindex=\"-1\"><span class=\"ipc-list-item__text\" role=\"presentation\">Toronto Int'l Film Festival</span></a><a aria-disabled=\"false\" class=\"ipc-list__item nav-link NavLink-sc-19k0khm-0 LrpYY ipc-list__item--indent-one\" href=\"/awards-central/?ref_=nv_ev_awrd\" role=\"menuitem\" tabindex=\"-1\"><span class=\"ipc-list-item__text\" role=\"presentation\">Awards Central</span></a><a aria-disabled=\"false\" class=\"ipc-list__item nav-link NavLink-sc-19k0khm-0 LrpYY ipc-list__item--indent-one\" href=\"/festival-central/?ref_=nv_ev_fc\" role=\"menuitem\" tabindex=\"-1\"><span class=\"ipc-list-item__text\" role=\"presentation\">Festival Central</span></a><a aria-disabled=\"false\" class=\"ipc-list__item nav-link NavLink-sc-19k0khm-0 LrpYY ipc-list__item--indent-one\" href=\"https://www.imdb.com/event/all/?ref_=nv_ev_all\" role=\"menuitem\" tabindex=\"-1\"><span class=\"ipc-list-item__text\" role=\"presentation\">All Events</span></a></ul></div></div></span></div><div class=\"_2BpsDlqEMlo9unX-C84Nji noMarginItem NavLinkCategory__StyledContainer-sc-1zvm8t-0 eWjUDO\" data-testid=\"nav-link-category\" role=\"presentation\"><input aria-hidden=\"true\" class=\"s6lVaL5MYgQM-fYJ9KWp7\" data-category-id=\"celebs\" hidden=\"\" id=\"nav-link-categories-celebs\" name=\"nav-categories-list\" tabindex=\"-1\" type=\"radio\"/><span class=\"_2Q0QZxgQqVpU0nQBqv1xlY\"><label aria-label=\"Expand Celebs Nav Links\" class=\"_2vjThdvAXrHx6CofJjm03w\" data-testid=\"category-expando\" for=\"nav-link-categories-celebs\" role=\"button\" tabindex=\"0\"><span class=\"_1tLXJMH37mh4UmvfVF8swF\"><svg class=\"ipc-icon ipc-icon--people\" fill=\"currentColor\" height=\"24\" role=\"presentation\" viewbox=\"0 0 24 24\" width=\"24\" xmlns=\"http://www.w3.org/2000/svg\"><path d=\"M0 0h24v24H0V0z\" fill=\"none\"></path><path d=\"M16 11c1.66 0 2.99-1.34 2.99-3S17.66 5 16 5s-3 1.34-3 3 1.34 3 3 3zm-8 0c1.66 0 2.99-1.34 2.99-3S9.66 5 8 5 5 6.34 5 8s1.34 3 3 3zm0 2c-2.33 0-7 1.17-7 3.5V18c0 .55.45 1 1 1h12c.55 0 1-.45 1-1v-1.5c0-2.33-4.67-3.5-7-3.5zm8 0c-.29 0-.62.02-.97.05.02.01.03.03.04.04 1.14.83 1.93 1.94 1.93 3.41V18c0 .35-.07.69-.18 1H22c.55 0 1-.45 1-1v-1.5c0-2.33-4.67-3.5-7-3.5z\"></path></svg></span><span class=\"_2aunAih-uMfbdgTUIjnQMd\">Celebs</span><span class=\"_2BeDp2pKthfMnxArm4lS0T\"><svg class=\"ipc-icon ipc-icon--chevron-right\" fill=\"currentColor\" height=\"24\" role=\"presentation\" viewbox=\"0 0 24 24\" width=\"24\" xmlns=\"http://www.w3.org/2000/svg\"><path d=\"M0 0h24v24H0V0z\" fill=\"none\"></path><path d=\"M9.29 6.71a.996.996 0 0 0 0 1.41L13.17 12l-3.88 3.88a.996.996 0 1 0 1.41 1.41l4.59-4.59a.996.996 0 0 0 0-1.41L10.7 6.7c-.38-.38-1.02-.38-1.41.01z\"></path></svg></span></label><div aria-expanded=\"false\" aria-hidden=\"true\" class=\"_1S9IOoNAVMPB2VikET3Lr2\" data-testid=\"list-container\"><div class=\"_1IQgIe3JwGh2arzItRgYN3\" role=\"presentation\"><ul aria-orientation=\"vertical\" class=\"ipc-list _1gB7giE3RrFWXvlzwjWk-q ipc-list--baseAlt\" role=\"menu\"><a aria-disabled=\"false\" class=\"ipc-list__item nav-link NavLink-sc-19k0khm-0 LrpYY ipc-list__item--indent-one\" href=\"/feature/bornondate/?ref_=nv_cel_brn\" role=\"menuitem\" tabindex=\"-1\"><span class=\"ipc-list-item__text\" role=\"presentation\">Born Today</span></a><a aria-disabled=\"false\" class=\"ipc-list__item nav-link nav-link--hideL nav-link--hideXL NavLink-sc-19k0khm-0 LrpYY ipc-list__item--indent-one\" href=\"https://m.imdb.com/chart/starmeter/?ref_=nv_cel_brn\" role=\"menuitem\" tabindex=\"-1\"><span class=\"ipc-list-item__text\" role=\"presentation\">Most Popular Celebs</span></a><a aria-disabled=\"false\" class=\"ipc-list__item nav-link nav-link--hideXS nav-link--hideS nav-link--hideM NavLink-sc-19k0khm-0 LrpYY ipc-list__item--indent-one\" href=\"https://www.imdb.com/search/name/?gender=male%2Cfemale&amp;ref_=nv_cel_m\" role=\"menuitem\" tabindex=\"-1\"><span class=\"ipc-list-item__text\" role=\"presentation\">Most Popular Celebs</span></a><a aria-disabled=\"false\" class=\"ipc-list__item nav-link NavLink-sc-19k0khm-0 LrpYY ipc-list__item--indent-one\" href=\"/news/celebrity/?ref_=nv_cel_nw\" role=\"menuitem\" tabindex=\"-1\"><span class=\"ipc-list-item__text\" role=\"presentation\">Celebrity News</span></a></ul></div></div></span></div><div class=\"NavDynamicCategoryList__EmptyContainer-f186ms-1 dFDExU\" data-testid=\"nav-link-category\"></div><div class=\"_2BpsDlqEMlo9unX-C84Nji noMarginItem NavLinkCategory__StyledContainer-sc-1zvm8t-0 eWjUDO\" data-testid=\"nav-link-category\" role=\"presentation\"><input aria-hidden=\"true\" class=\"s6lVaL5MYgQM-fYJ9KWp7\" data-category-id=\"comm\" hidden=\"\" id=\"nav-link-categories-comm\" name=\"nav-categories-list\" tabindex=\"-1\" type=\"radio\"/><span class=\"_2Q0QZxgQqVpU0nQBqv1xlY\"><label aria-label=\"Expand Community Nav Links\" class=\"_2vjThdvAXrHx6CofJjm03w\" data-testid=\"category-expando\" for=\"nav-link-categories-comm\" role=\"button\" tabindex=\"0\"><span class=\"_1tLXJMH37mh4UmvfVF8swF\"><svg class=\"ipc-icon ipc-icon--earth\" fill=\"currentColor\" height=\"24\" role=\"presentation\" viewbox=\"0 0 24 24\" width=\"24\" xmlns=\"http://www.w3.org/2000/svg\"><path d=\"M0 0h24v24H0V0z\" fill=\"none\"></path><path d=\"M12 2C6.48 2 2 6.48 2 12s4.48 10 10 10 10-4.48 10-10S17.52 2 12 2zm-1 17.93c-3.95-.49-7-3.85-7-7.93 0-.62.08-1.21.21-1.79L9 15v1c0 1.1.9 2 2 2v1.93zm6.9-2.54c-.26-.81-1-1.39-1.9-1.39h-1v-3c0-.55-.45-1-1-1H8v-2h2c.55 0 1-.45 1-1V7h2c1.1 0 2-.9 2-2v-.41c2.93 1.19 5 4.06 5 7.41 0 2.08-.8 3.97-2.1 5.39z\"></path></svg></span><span class=\"_2aunAih-uMfbdgTUIjnQMd\">Community</span><span class=\"_2BeDp2pKthfMnxArm4lS0T\"><svg class=\"ipc-icon ipc-icon--chevron-right\" fill=\"currentColor\" height=\"24\" role=\"presentation\" viewbox=\"0 0 24 24\" width=\"24\" xmlns=\"http://www.w3.org/2000/svg\"><path d=\"M0 0h24v24H0V0z\" fill=\"none\"></path><path d=\"M9.29 6.71a.996.996 0 0 0 0 1.41L13.17 12l-3.88 3.88a.996.996 0 1 0 1.41 1.41l4.59-4.59a.996.996 0 0 0 0-1.41L10.7 6.7c-.38-.38-1.02-.38-1.41.01z\"></path></svg></span></label><div aria-expanded=\"false\" aria-hidden=\"true\" class=\"_1S9IOoNAVMPB2VikET3Lr2\" data-testid=\"list-container\"><div class=\"_1IQgIe3JwGh2arzItRgYN3\" role=\"presentation\"><ul aria-orientation=\"vertical\" class=\"ipc-list _1gB7giE3RrFWXvlzwjWk-q ipc-list--baseAlt\" role=\"menu\"><a aria-disabled=\"false\" class=\"ipc-list__item nav-link NavLink-sc-19k0khm-0 LrpYY ipc-list__item--indent-one\" href=\"https://help.imdb.com/imdb?ref_=cons_nb_hlp\" role=\"menuitem\" tabindex=\"-1\"><span class=\"ipc-list-item__text\" role=\"presentation\">Help Center</span></a><a aria-disabled=\"false\" class=\"ipc-list__item nav-link NavLink-sc-19k0khm-0 LrpYY ipc-list__item--indent-one\" href=\"https://contribute.imdb.com/czone?ref_=nv_cm_cz\" role=\"menuitem\" tabindex=\"-1\"><span class=\"ipc-list-item__text\" role=\"presentation\">Contributor Zone</span></a><a aria-disabled=\"false\" class=\"ipc-list__item nav-link NavLink-sc-19k0khm-0 LrpYY ipc-list__item--indent-one\" href=\"/poll/?ref_=nv_cm_pl\" role=\"menuitem\" tabindex=\"-1\"><span class=\"ipc-list-item__text\" role=\"presentation\">Polls</span></a></ul></div></div></span></div><a aria-disabled=\"false\" aria-label=\"Go To IMDb Pro\" class=\"ipc-list__item nav-link _3xW8qYlqcCPv5fOHeXBer5 NavLink-sc-19k0khm-0 LrpYY\" href=\"https://pro.imdb.com?ref_=cons_nb_hm&amp;rf=cons_nb_hm\" role=\"menuitem\" tabindex=\"0\" target=\"_blank\"><span class=\"ipc-list-item__text\" role=\"presentation\"><div class=\"_33PK8nBHiT1fGjnfXwum3v NavLinkCategoryList__LogoNavLink-sc-13vymju-1 RQLCk\"><svg class=\"ipc-logo\" height=\"14\" version=\"1.1\" viewbox=\"0 0 52 14\" width=\"52\" xmlns=\"http://www.w3.org/2000/svg\"><g fill=\"currentColor\"><rect height=\"12.34\" width=\"3.21\" x=\"0\" y=\"1\"></rect><path d=\"M10,1 L9.3,6.76 L8.84,3.63 C8.7,2.62 8.58,1.75 8.45,1 L4.3,1 L4.3,13.34 L7.11,13.34 L7.11,5.19 L8.3,13.34 L10.3,13.34 L11.42,5 L11.42,13.33 L14.22,13.33 L14.22,1 L10,1 Z\"></path><path d=\"M19.24,3.22 C19.3711159,3.29185219 19.4602235,3.42180078 19.48,3.57 C19.5340993,3.92393477 19.554191,4.28223587 19.54,4.64 L19.54,9.42 C19.578852,9.92887392 19.5246327,10.4405682 19.38,10.93 C19.27,11.12 18.99,11.21 18.53,11.21 L18.53,3.11 C18.7718735,3.09406934 19.0142863,3.13162626 19.24,3.22 Z M19.24,13.34 C19.8163127,13.3574057 20.3928505,13.3138302 20.96,13.21 C21.3245396,13.1481159 21.6680909,12.9969533 21.96,12.77 C22.2288287,12.5438006 22.4209712,12.2398661 22.51,11.9 C22.643288,11.1679419 22.6969338,10.4236056 22.67,9.68 L22.67,5.34 C22.6662002,4.55669241 22.6060449,3.77467335 22.49,3 C22.43037,2.59841431 22.260779,2.22116094 22,1.91 C21.6636187,1.56093667 21.2326608,1.317654 20.76,1.21 C19.7709421,1.02848785 18.7647002,0.958050915 17.76,1 L15.32,1 L15.32,13.34 L19.24,13.34 Z\"></path><path d=\"M27.86,10.34 C27.8769902,10.7218086 27.8501483,11.1043064 27.78,11.48 C27.72,11.63 27.46,11.71 27.26,11.71 C27.0954951,11.7299271 26.9386363,11.6349863 26.88,11.48 C26.7930212,11.1542289 26.7592527,10.8165437 26.78,10.48 L26.78,7.18 C26.7626076,6.84408875 26.7929089,6.50740774 26.87,6.18 C26.9317534,6.03447231 27.0833938,5.94840616 27.24,5.97 C27.43,5.97 27.7,6.05 27.76,6.21 C27.8468064,6.53580251 27.8805721,6.87345964 27.86,7.21 L27.86,10.34 Z M23.7,1 L23.7,13.34 L26.58,13.34 L26.78,12.55 C27.0112432,12.8467609 27.3048209,13.0891332 27.64,13.26 C28.0022345,13.4198442 28.394069,13.5016184 28.79,13.5 C29.2588971,13.515288 29.7196211,13.3746089 30.1,13.1 C30.4399329,12.8800058 30.6913549,12.5471372 30.81,12.16 C30.9423503,11.6167622 31.0061799,11.0590937 31,10.5 L31,7 C31.0087531,6.51279482 30.9920637,6.02546488 30.95,5.54 C30.904474,5.28996521 30.801805,5.05382649 30.65,4.85 C30.4742549,4.59691259 30.2270668,4.40194735 29.94,4.29 C29.5869438,4.15031408 29.2096076,4.08232558 28.83,4.09 C28.4361722,4.08961884 28.0458787,4.16428368 27.68,4.31 C27.3513666,4.46911893 27.0587137,4.693713 26.82,4.97 L26.82,1 L23.7,1 Z\"></path><path d=\"M32.13,1 L35.32,1 C35.9925574,0.978531332 36.6650118,1.04577677 37.32,1.2 C37.717112,1.29759578 38.0801182,1.50157071 38.37,1.79 C38.6060895,2.05302496 38.7682605,2.37391646 38.84,2.72 C38.935586,3.27463823 38.9757837,3.8374068 38.96,4.4 L38.96,5.46 C38.9916226,6.03689533 38.9100917,6.61440551 38.72,7.16 C38.5402933,7.53432344 38.2260614,7.82713037 37.84,7.98 C37.3049997,8.18709035 36.7332458,8.28238268 36.16,8.26 L35.31,8.26 L35.31,13.16 L32.13,13.16 L32.13,1 Z M35.29,3.08 L35.29,6.18 L35.53,6.18 C35.7515781,6.20532753 35.9725786,6.12797738 36.13,5.97 C36.2717869,5.69610033 36.3308522,5.38687568 36.3,5.08 L36.3,4.08 C36.3390022,3.79579475 36.2713114,3.5072181 36.11,3.27 C35.8671804,3.11299554 35.5771259,3.04578777 35.29,3.08 Z\"></path><path d=\"M42,4.36 L41.89,5.52 C42.28,4.69 43.67,4.42 44.41,4.37 L43.6,7.3 C43.2290559,7.27725357 42.8582004,7.34593052 42.52,7.5 C42.3057075,7.61238438 42.1519927,7.81367763 42.1,8.05 C42.0178205,8.59259006 41.9843538,9.14144496 42,9.69 L42,13.16 L39.34,13.16 L39.34,4.36 L42,4.36 Z\"></path><path d=\"M51.63,9.71 C51.6472876,10.3265292 51.6003682,10.9431837 51.49,11.55 C51.376862,11.9620426 51.1639158,12.3398504 50.87,12.65 C50.5352227,13.001529 50.1148049,13.2599826 49.65,13.4 C49.0994264,13.5686585 48.5257464,13.6496486 47.95,13.64 C47.3333389,13.6524659 46.7178074,13.5818311 46.12,13.43 C45.6996896,13.322764 45.3140099,13.1092627 45,12.81 C44.7275808,12.5275876 44.5254637,12.1850161 44.41,11.81 C44.2627681,11.2181509 44.1921903,10.6098373 44.2,10 L44.2,7.64 C44.1691064,6.9584837 44.2780071,6.27785447 44.52,5.64 C44.7547114,5.12751365 45.1616363,4.71351186 45.67,4.47 C46.3337168,4.13941646 47.0688388,3.97796445 47.81,4 C48.4454888,3.98667568 49.0783958,4.08482705 49.68,4.29 C50.1352004,4.42444561 50.5506052,4.66819552 50.89,5 C51.1535526,5.26601188 51.3550281,5.58700663 51.48,5.94 C51.6001358,6.42708696 51.6506379,6.92874119 51.63,7.43 L51.63,9.71 Z M48.39,6.73 C48.412199,6.42705368 48.3817488,6.12255154 48.3,5.83 C48.2091142,5.71223121 48.0687606,5.64325757 47.92,5.64325757 C47.7712394,5.64325757 47.6308858,5.71223121 47.54,5.83 C47.447616,6.12046452 47.4136298,6.42634058 47.44,6.73 L47.44,10.93 C47.4168299,11.2204468 47.4508034,11.5126191 47.54,11.79 C47.609766,11.9270995 47.7570827,12.0067302 47.91,11.99 C48.0639216,12.0108082 48.2159732,11.9406305 48.3,11.81 C48.3790864,11.5546009 48.4096133,11.2866434 48.39,11.02 L48.39,6.73 Z\"></path></g></svg><div class=\"NavLinkCategoryList__TextNavLink-sc-13vymju-2 YOYgO\">For Industry Professionals</div></div></span><span class=\"ipc-list-item__icon ipc-list-item__icon--post\" role=\"presentation\"><svg class=\"ipc-icon ipc-icon--launch\" fill=\"currentColor\" height=\"24\" role=\"presentation\" viewbox=\"0 0 24 24\" width=\"24\" xmlns=\"http://www.w3.org/2000/svg\"><path d=\"M16 16.667H8A.669.669 0 0 1 7.333 16V8c0-.367.3-.667.667-.667h3.333c.367 0 .667-.3.667-.666C12 6.3 11.7 6 11.333 6h-4C6.593 6 6 6.6 6 7.333v9.334C6 17.4 6.6 18 7.333 18h9.334C17.4 18 18 17.4 18 16.667v-4c0-.367-.3-.667-.667-.667-.366 0-.666.3-.666.667V16c0 .367-.3.667-.667.667zm-2.667-10c0 .366.3.666.667.666h1.727L9.64 13.42a.664.664 0 1 0 .94.94l6.087-6.087V10c0 .367.3.667.666.667.367 0 .667-.3.667-.667V6h-4c-.367 0-.667.3-.667.667z\"></path></svg></span></a></div></div></div><label aria-hidden=\"true\" aria-label=\"Close Navigation Drawer\" class=\"_1iCYg55DI6ds7d3KVrdYBX\" data-testid=\"backdrop\" for=\"imdbHeader-navDrawer\" role=\"button\" tabindex=\"0\"></label></aside><a aria-label=\"Home\" class=\"NavLogo-e02kni-0 ddqdtC imdb-header__logo-link _3XaDsUnZG7ZfFqFF37dZPv\" href=\"/?ref_=nv_home\" id=\"home_img_holder\"><svg class=\"ipc-logo\" height=\"32\" id=\"home_img\" version=\"1.1\" viewbox=\"0 0 64 32\" width=\"64\" xmlns=\"http://www.w3.org/2000/svg\"><g fill=\"#F5C518\"><rect height=\"100%\" rx=\"4\" width=\"100%\" x=\"0\" y=\"0\"></rect></g><g fill=\"#000000\" fill-rule=\"nonzero\" transform=\"translate(8.000000, 7.000000)\"><polygon points=\"0 18 5 18 5 0 0 0\"></polygon><path d=\"M15.6725178,0 L14.5534833,8.40846934 L13.8582008,3.83502426 C13.65661,2.37009263 13.4632474,1.09175121 13.278113,0 L7,0 L7,18 L11.2416347,18 L11.2580911,6.11380679 L13.0436094,18 L16.0633571,18 L17.7583653,5.8517865 L17.7707076,18 L22,18 L22,0 L15.6725178,0 Z\"></path><path d=\"M24,18 L24,0 L31.8045586,0 C33.5693522,0 35,1.41994415 35,3.17660424 L35,14.8233958 C35,16.5777858 33.5716617,18 31.8045586,18 L24,18 Z M29.8322479,3.2395236 C29.6339219,3.13233348 29.2545158,3.08072342 28.7026524,3.08072342 L28.7026524,14.8914865 C29.4312846,14.8914865 29.8796736,14.7604764 30.0478195,14.4865461 C30.2159654,14.2165858 30.3021941,13.486105 30.3021941,12.2871637 L30.3021941,5.3078959 C30.3021941,4.49404499 30.272014,3.97397442 30.2159654,3.74371416 C30.1599168,3.5134539 30.0348852,3.34671372 29.8322479,3.2395236 Z\"></path><path d=\"M44.4299079,4.50685823 L44.749518,4.50685823 C46.5447098,4.50685823 48,5.91267586 48,7.64486762 L48,14.8619906 C48,16.5950653 46.5451816,18 44.749518,18 L44.4299079,18 C43.3314617,18 42.3602746,17.4736618 41.7718697,16.6682739 L41.4838962,17.7687785 L37,17.7687785 L37,0 L41.7843263,0 L41.7843263,5.78053556 C42.4024982,5.01015739 43.3551514,4.50685823 44.4299079,4.50685823 Z M43.4055679,13.2842155 L43.4055679,9.01907814 C43.4055679,8.31433946 43.3603268,7.85185468 43.2660746,7.63896485 C43.1718224,7.42607505 42.7955881,7.2893916 42.5316822,7.2893916 C42.267776,7.2893916 41.8607934,7.40047379 41.7816216,7.58767002 L41.7816216,9.01907814 L41.7816216,13.4207851 L41.7816216,14.8074788 C41.8721037,15.0130276 42.2602358,15.1274059 42.5316822,15.1274059 C42.8031285,15.1274059 43.1982131,15.0166981 43.281155,14.8074788 C43.3640968,14.5982595 43.4055679,14.0880581 43.4055679,13.2842155 Z\"></path></g></svg></a><input aria-hidden=\"true\" class=\"imdb-header-search__state EL4bTiUhQdfIvyX_PMRVv SearchBar__MobileSearchStateToggle-sc-1nweg6x-2 cIKARP\" hidden=\"\" id=\"navSearch-searchState\" name=\"navSearch-searchState\" type=\"checkbox\"/><div class=\"nav-search__search-container _2cVsg1cgtNxl8NEGDHTPH6 SearchBar-sc-1nweg6x-0 hOXnzb\" id=\"suggestion-search-container\"><form action=\"/find\" class=\"_19kygDgP4Og4wL_TIXtDmm imdb-header__search-form SearchForm-dxsip9-0 gTFTwO\" id=\"nav-search-form\" method=\"get\" name=\"nav-search-form\" role=\"search\"><div class=\"search-category-selector SearchCategorySelector__StyledContainer-sc-18f40f7-0 dKTgZt\"><div class=\"FlyoutMenu-xq6xx0-0 crQfrC navbar__flyout--breakpoint-m navbar__flyout--positionLeft\"><label aria-disabled=\"false\" aria-label=\"All\" class=\"ipc-button ipc-button--single-padding ipc-button--default-height ipc-button--core-base ipc-button--theme-base ipc-button--on-textPrimary ipc-text-button navbar__flyout__text-button-after-mobile search-category-selector__opener P7UFTypc7bsdHDd2RHdil nav-search-form__categories\" for=\"navbar-search-category-select\" role=\"button\" tabindex=\"0\"><div class=\"ipc-button__text\">All<svg class=\"ipc-icon ipc-icon--arrow-drop-down navbar__flyout__button-pointer\" fill=\"currentColor\" height=\"24\" role=\"presentation\" viewbox=\"0 0 24 24\" width=\"24\" xmlns=\"http://www.w3.org/2000/svg\"><path d=\"M0 0h24v24H0V0z\" fill=\"none\"></path><path d=\"M8.71 11.71l2.59 2.59c.39.39 1.02.39 1.41 0l2.59-2.59c.63-.63.18-1.71-.71-1.71H9.41c-.89 0-1.33 1.08-.7 1.71z\"></path></svg></div></label><input aria-hidden=\"true\" class=\"ipc-menu__focused-state\" hidden=\"\" id=\"navbar-search-category-select\" name=\"navbar-search-category-select\" tabindex=\"-1\" type=\"checkbox\"/><div class=\"ipc-menu mdc-menu ipc-menu--not-initialized ipc-menu--on-baseAlt ipc-menu--anchored ipc-menu--with-checkbox ipc-menu--expand-from-top-left navbar__flyout--menu\" data-menu-id=\"navbar-search-category-select\" role=\"presentation\"><div class=\"ipc-menu__items mdc-menu__items\" role=\"presentation\"><span id=\"navbar-search-category-select-contents\"><ul aria-orientation=\"vertical\" class=\"ipc-list _2crW0ewf49BFHCKEEUJ_9o ipc-list--baseAlt\" role=\"menu\"><a aria-disabled=\"false\" aria-label=\"All\" class=\"ipc-list__item _1L5qcXA4wOKR8LeHJgsqja _3lrXaniHRqyCb5hUFHbcds\" role=\"menuitem\" tabindex=\"0\"><span class=\"ipc-list-item__text\" role=\"presentation\"><svg class=\"ipc-icon ipc-icon--search _2re8nTkPmRXI_TBcLnh1u8\" fill=\"currentColor\" height=\"24\" role=\"presentation\" viewbox=\"0 0 24 24\" width=\"24\" xmlns=\"http://www.w3.org/2000/svg\"><path d=\"M0 0h24v24H0V0z\" fill=\"none\"></path><path d=\"M15.5 14h-.79l-.28-.27a6.5 6.5 0 0 0 1.48-5.34c-.47-2.78-2.79-5-5.59-5.34a6.505 6.505 0 0 0-7.27 7.27c.34 2.8 2.56 5.12 5.34 5.59a6.5 6.5 0 0 0 5.34-1.48l.27.28v.79l4.25 4.25c.41.41 1.08.41 1.49 0 .41-.41.41-1.08 0-1.49L15.5 14zm-6 0C7.01 14 5 11.99 5 9.5S7.01 5 9.5 5 14 7.01 14 9.5 11.99 14 9.5 14z\"></path></svg>All</span></a><a aria-disabled=\"false\" aria-label=\"Titles\" class=\"ipc-list__item _1L5qcXA4wOKR8LeHJgsqja\" role=\"menuitem\" tabindex=\"0\"><span class=\"ipc-list-item__text\" role=\"presentation\"><svg class=\"ipc-icon ipc-icon--movie _2re8nTkPmRXI_TBcLnh1u8\" fill=\"currentColor\" height=\"24\" role=\"presentation\" viewbox=\"0 0 24 24\" width=\"24\" xmlns=\"http://www.w3.org/2000/svg\"><path d=\"M0 0h24v24H0V0z\" fill=\"none\"></path><path d=\"M18 4v1h-2V4c0-.55-.45-1-1-1H9c-.55 0-1 .45-1 1v1H6V4c0-.55-.45-1-1-1s-1 .45-1 1v16c0 .55.45 1 1 1s1-.45 1-1v-1h2v1c0 .55.45 1 1 1h6c.55 0 1-.45 1-1v-1h2v1c0 .55.45 1 1 1s1-.45 1-1V4c0-.55-.45-1-1-1s-1 .45-1 1zM8 17H6v-2h2v2zm0-4H6v-2h2v2zm0-4H6V7h2v2zm10 8h-2v-2h2v2zm0-4h-2v-2h2v2zm0-4h-2V7h2v2z\"></path></svg>Titles</span></a><a aria-disabled=\"false\" aria-label=\"TV Episodes\" class=\"ipc-list__item _1L5qcXA4wOKR8LeHJgsqja\" role=\"menuitem\" tabindex=\"0\"><span class=\"ipc-list-item__text\" role=\"presentation\"><svg class=\"ipc-icon ipc-icon--television _2re8nTkPmRXI_TBcLnh1u8\" fill=\"currentColor\" height=\"24\" role=\"presentation\" viewbox=\"0 0 24 24\" width=\"24\" xmlns=\"http://www.w3.org/2000/svg\"><path d=\"M0 0h24v24H0V0z\" fill=\"none\"></path><path d=\"M21 3H3c-1.1 0-2 .9-2 2v12c0 1.1.9 2 2 2h5v1c0 .55.45 1 1 1h6c.55 0 1-.45 1-1v-1h5c1.1 0 1.99-.9 1.99-2L23 5a2 2 0 0 0-2-2zm-1 14H4c-.55 0-1-.45-1-1V6c0-.55.45-1 1-1h16c.55 0 1 .45 1 1v10c0 .55-.45 1-1 1z\"></path></svg>TV Episodes</span></a><a aria-disabled=\"false\" aria-label=\"Celebs\" class=\"ipc-list__item _1L5qcXA4wOKR8LeHJgsqja\" role=\"menuitem\" tabindex=\"0\"><span class=\"ipc-list-item__text\" role=\"presentation\"><svg class=\"ipc-icon ipc-icon--people _2re8nTkPmRXI_TBcLnh1u8\" fill=\"currentColor\" height=\"24\" role=\"presentation\" viewbox=\"0 0 24 24\" width=\"24\" xmlns=\"http://www.w3.org/2000/svg\"><path d=\"M0 0h24v24H0V0z\" fill=\"none\"></path><path d=\"M16 11c1.66 0 2.99-1.34 2.99-3S17.66 5 16 5s-3 1.34-3 3 1.34 3 3 3zm-8 0c1.66 0 2.99-1.34 2.99-3S9.66 5 8 5 5 6.34 5 8s1.34 3 3 3zm0 2c-2.33 0-7 1.17-7 3.5V18c0 .55.45 1 1 1h12c.55 0 1-.45 1-1v-1.5c0-2.33-4.67-3.5-7-3.5zm8 0c-.29 0-.62.02-.97.05.02.01.03.03.04.04 1.14.83 1.93 1.94 1.93 3.41V18c0 .35-.07.69-.18 1H22c.55 0 1-.45 1-1v-1.5c0-2.33-4.67-3.5-7-3.5z\"></path></svg>Celebs</span></a><a aria-disabled=\"false\" aria-label=\"Companies\" class=\"ipc-list__item _1L5qcXA4wOKR8LeHJgsqja\" role=\"menuitem\" tabindex=\"0\"><span class=\"ipc-list-item__text\" role=\"presentation\"><svg class=\"ipc-icon ipc-icon--business _2re8nTkPmRXI_TBcLnh1u8\" fill=\"currentColor\" height=\"24\" role=\"presentation\" viewbox=\"0 0 24 24\" width=\"24\" xmlns=\"http://www.w3.org/2000/svg\"><path d=\"M0 0h24v24H0V0z\" fill=\"none\"></path><path d=\"M12 7V5c0-1.1-.9-2-2-2H4c-1.1 0-2 .9-2 2v14c0 1.1.9 2 2 2h16c1.1 0 2-.9 2-2V9c0-1.1-.9-2-2-2h-8zM6 19H4v-2h2v2zm0-4H4v-2h2v2zm0-4H4V9h2v2zm0-4H4V5h2v2zm4 12H8v-2h2v2zm0-4H8v-2h2v2zm0-4H8V9h2v2zm0-4H8V5h2v2zm9 12h-7v-2h2v-2h-2v-2h2v-2h-2V9h7c.55 0 1 .45 1 1v8c0 .55-.45 1-1 1zm-1-8h-2v2h2v-2zm0 4h-2v2h2v-2z\"></path></svg>Companies</span></a><a aria-disabled=\"false\" aria-label=\"Keywords\" class=\"ipc-list__item _1L5qcXA4wOKR8LeHJgsqja\" role=\"menuitem\" tabindex=\"0\"><span class=\"ipc-list-item__text\" role=\"presentation\"><svg class=\"ipc-icon ipc-icon--label _2re8nTkPmRXI_TBcLnh1u8\" fill=\"currentColor\" height=\"24\" role=\"presentation\" viewbox=\"0 0 24 24\" width=\"24\" xmlns=\"http://www.w3.org/2000/svg\"><path d=\"M0 0h24v24H0V0z\" fill=\"none\"></path><path d=\"M17.63 5.84C17.27 5.33 16.67 5 16 5L5 5.01C3.9 5.01 3 5.9 3 7v10c0 1.1.9 1.99 2 1.99L16 19c.67 0 1.27-.33 1.63-.84l3.96-5.58a.99.99 0 0 0 0-1.16l-3.96-5.58z\"></path></svg>Keywords</span></a><li class=\"ipc-list-divider\" role=\"separator\"></li><a aria-disabled=\"false\" class=\"ipc-list__item _1L5qcXA4wOKR8LeHJgsqja\" href=\"https://www.imdb.com/search/\" role=\"menuitem\" tabindex=\"0\"><span class=\"ipc-list-item__text\" role=\"presentation\"><svg class=\"ipc-icon ipc-icon--find-in-page _2re8nTkPmRXI_TBcLnh1u8\" fill=\"currentColor\" height=\"24\" role=\"presentation\" viewbox=\"0 0 24 24\" width=\"24\" xmlns=\"http://www.w3.org/2000/svg\"><path d=\"M0 0h24v24H0V0z\" fill=\"none\"></path><path d=\"M20 19.59V8.83c0-.53-.21-1.04-.59-1.41l-4.83-4.83c-.37-.38-.88-.59-1.41-.59H6c-1.1 0-1.99.9-1.99 2L4 20c0 1.1.89 2 1.99 2H18c.45 0 .85-.15 1.19-.4l-4.43-4.43c-.86.56-1.89.88-3 .82-2.37-.11-4.4-1.96-4.72-4.31a5.013 5.013 0 0 1 5.83-5.61c1.95.33 3.57 1.85 4 3.78.33 1.46.01 2.82-.7 3.9L20 19.59zM9 13c0 1.66 1.34 3 3 3s3-1.34 3-3-1.34-3-3-3-3 1.34-3 3z\"></path></svg>Advanced Search</span><span class=\"ipc-list-item__icon ipc-list-item__icon--post\" role=\"presentation\"><svg class=\"ipc-icon ipc-icon--chevron-right\" fill=\"currentColor\" height=\"24\" role=\"presentation\" viewbox=\"0 0 24 24\" width=\"24\" xmlns=\"http://www.w3.org/2000/svg\"><path d=\"M0 0h24v24H0V0z\" fill=\"none\"></path><path d=\"M9.29 6.71a.996.996 0 0 0 0 1.41L13.17 12l-3.88 3.88a.996.996 0 1 0 1.41 1.41l4.59-4.59a.996.996 0 0 0 0-1.41L10.7 6.7c-.38-.38-1.02-.38-1.41.01z\"></path></svg></span></a></ul></span></div></div></div></div><div class=\"nav-search__search-input-container SearchTypeahead-sc-112a48v-0 OQYVG\"><div aria-expanded=\"false\" aria-haspopup=\"listbox\" aria-owns=\"react-autowhatever-1\" class=\"react-autosuggest__container\" role=\"combobox\"><input aria-autocomplete=\"list\" aria-controls=\"react-autowhatever-1\" autocapitalize=\"off\" autocomplete=\"off\" autocorrect=\"off\" class=\"imdb-header-search__input _3gDVKsXm3b_VAMhhSw1haV react-autosuggest__input\" id=\"suggestion-search\" name=\"q\" placeholder=\"Search IMDb\" type=\"text\" value=\"\"/></div></div><button class=\"nav-search__search-submit _1-XI3_I8iwubPnQ1mmvW97\" id=\"suggestion-search-button\" type=\"submit\"><svg class=\"ipc-icon ipc-icon--magnify\" fill=\"currentColor\" height=\"24\" role=\"presentation\" viewbox=\"0 0 24 24\" width=\"24\" xmlns=\"http://www.w3.org/2000/svg\"><path d=\"M0 0h24v24H0V0z\" fill=\"none\"></path><path d=\"M15.5 14h-.79l-.28-.27a6.5 6.5 0 0 0 1.48-5.34c-.47-2.78-2.79-5-5.59-5.34a6.505 6.505 0 0 0-7.27 7.27c.34 2.8 2.56 5.12 5.34 5.59a6.5 6.5 0 0 0 5.34-1.48l.27.28v.79l4.25 4.25c.41.41 1.08.41 1.49 0 .41-.41.41-1.08 0-1.49L15.5 14zm-6 0C7.01 14 5 11.99 5 9.5S7.01 5 9.5 5 14 7.01 14 9.5 11.99 14 9.5 14z\"></path></svg></button><input name=\"ref_\" type=\"hidden\" value=\"nv_sr_sm\"/></form><label aria-disabled=\"false\" aria-label=\"Close Search\" class=\"ipc-icon-button imdb-header-search__state-closer ipc-icon-button--baseAlt ipc-icon-button--onBase\" for=\"navSearch-searchState\" id=\"imdbHeader-searchClose\" role=\"button\" tabindex=\"0\" title=\"Close Search\"><svg class=\"ipc-icon ipc-icon--clear\" fill=\"currentColor\" height=\"24\" role=\"presentation\" viewbox=\"0 0 24 24\" width=\"24\" xmlns=\"http://www.w3.org/2000/svg\"><path d=\"M0 0h24v24H0V0z\" fill=\"none\"></path><path d=\"M18.3 5.71a.996.996 0 0 0-1.41 0L12 10.59 7.11 5.7A.996.996 0 1 0 5.7 7.11L10.59 12 5.7 16.89a.996.996 0 1 0 1.41 1.41L12 13.41l4.89 4.89a.996.996 0 1 0 1.41-1.41L13.41 12l4.89-4.89c.38-.38.38-1.02 0-1.4z\"></path></svg></label></div><label aria-disabled=\"false\" aria-label=\"Open Search\" class=\"ipc-icon-button imdb-header-search__state-opener SearchBar__SearchLauncherButton-sc-1nweg6x-1 hjoCyi ipc-icon-button--baseAlt ipc-icon-button--onBase\" for=\"navSearch-searchState\" id=\"imdbHeader-searchOpen\" role=\"button\" tabindex=\"0\" title=\"Open Search\"><svg class=\"ipc-icon ipc-icon--magnify\" fill=\"currentColor\" height=\"24\" role=\"presentation\" viewbox=\"0 0 24 24\" width=\"24\" xmlns=\"http://www.w3.org/2000/svg\"><path d=\"M0 0h24v24H0V0z\" fill=\"none\"></path><path d=\"M15.5 14h-.79l-.28-.27a6.5 6.5 0 0 0 1.48-5.34c-.47-2.78-2.79-5-5.59-5.34a6.505 6.505 0 0 0-7.27 7.27c.34 2.8 2.56 5.12 5.34 5.59a6.5 6.5 0 0 0 5.34-1.48l.27.28v.79l4.25 4.25c.41.41 1.08.41 1.49 0 .41-.41.41-1.08 0-1.49L15.5 14zm-6 0C7.01 14 5 11.99 5 9.5S7.01 5 9.5 5 14 7.01 14 9.5 11.99 14 9.5 14z\"></path></svg></label><div class=\"navbar__imdbpro NavProFlyout-sc-1cjctnc-0 hoAGyu\"><div class=\"navbar__imdbpro-content FlyoutMenu-xq6xx0-0 crQfrC navbar__flyout--breakpoint-l\"><a aria-disabled=\"false\" aria-label=\"Go To IMDb Pro\" class=\"ipc-button ipc-button--single-padding ipc-button--default-height ipc-button--core-baseAlt ipc-button--theme-baseAlt ipc-button--on-textPrimary ipc-text-button navbar__flyout__text-button-after-mobile navbar__imdb-pro--toggle\" href=\"https://pro.imdb.com/login/ap?u=/login/lwa&amp;imdbPageAction=signUp&amp;rf=cons_nb_hm&amp;ref_=cons_nb_hm\" role=\"button\" tabindex=\"0\"><div class=\"ipc-button__text\"><svg class=\"ipc-logo navbar__imdbpro-menu-toggle__name\" height=\"14\" version=\"1.1\" viewbox=\"0 0 52 14\" width=\"52\" xmlns=\"http://www.w3.org/2000/svg\"><g fill=\"currentColor\"><rect height=\"12.34\" width=\"3.21\" x=\"0\" y=\"1\"></rect><path d=\"M10,1 L9.3,6.76 L8.84,3.63 C8.7,2.62 8.58,1.75 8.45,1 L4.3,1 L4.3,13.34 L7.11,13.34 L7.11,5.19 L8.3,13.34 L10.3,13.34 L11.42,5 L11.42,13.33 L14.22,13.33 L14.22,1 L10,1 Z\"></path><path d=\"M19.24,3.22 C19.3711159,3.29185219 19.4602235,3.42180078 19.48,3.57 C19.5340993,3.92393477 19.554191,4.28223587 19.54,4.64 L19.54,9.42 C19.578852,9.92887392 19.5246327,10.4405682 19.38,10.93 C19.27,11.12 18.99,11.21 18.53,11.21 L18.53,3.11 C18.7718735,3.09406934 19.0142863,3.13162626 19.24,3.22 Z M19.24,13.34 C19.8163127,13.3574057 20.3928505,13.3138302 20.96,13.21 C21.3245396,13.1481159 21.6680909,12.9969533 21.96,12.77 C22.2288287,12.5438006 22.4209712,12.2398661 22.51,11.9 C22.643288,11.1679419 22.6969338,10.4236056 22.67,9.68 L22.67,5.34 C22.6662002,4.55669241 22.6060449,3.77467335 22.49,3 C22.43037,2.59841431 22.260779,2.22116094 22,1.91 C21.6636187,1.56093667 21.2326608,1.317654 20.76,1.21 C19.7709421,1.02848785 18.7647002,0.958050915 17.76,1 L15.32,1 L15.32,13.34 L19.24,13.34 Z\"></path><path d=\"M27.86,10.34 C27.8769902,10.7218086 27.8501483,11.1043064 27.78,11.48 C27.72,11.63 27.46,11.71 27.26,11.71 C27.0954951,11.7299271 26.9386363,11.6349863 26.88,11.48 C26.7930212,11.1542289 26.7592527,10.8165437 26.78,10.48 L26.78,7.18 C26.7626076,6.84408875 26.7929089,6.50740774 26.87,6.18 C26.9317534,6.03447231 27.0833938,5.94840616 27.24,5.97 C27.43,5.97 27.7,6.05 27.76,6.21 C27.8468064,6.53580251 27.8805721,6.87345964 27.86,7.21 L27.86,10.34 Z M23.7,1 L23.7,13.34 L26.58,13.34 L26.78,12.55 C27.0112432,12.8467609 27.3048209,13.0891332 27.64,13.26 C28.0022345,13.4198442 28.394069,13.5016184 28.79,13.5 C29.2588971,13.515288 29.7196211,13.3746089 30.1,13.1 C30.4399329,12.8800058 30.6913549,12.5471372 30.81,12.16 C30.9423503,11.6167622 31.0061799,11.0590937 31,10.5 L31,7 C31.0087531,6.51279482 30.9920637,6.02546488 30.95,5.54 C30.904474,5.28996521 30.801805,5.05382649 30.65,4.85 C30.4742549,4.59691259 30.2270668,4.40194735 29.94,4.29 C29.5869438,4.15031408 29.2096076,4.08232558 28.83,4.09 C28.4361722,4.08961884 28.0458787,4.16428368 27.68,4.31 C27.3513666,4.46911893 27.0587137,4.693713 26.82,4.97 L26.82,1 L23.7,1 Z\"></path><path d=\"M32.13,1 L35.32,1 C35.9925574,0.978531332 36.6650118,1.04577677 37.32,1.2 C37.717112,1.29759578 38.0801182,1.50157071 38.37,1.79 C38.6060895,2.05302496 38.7682605,2.37391646 38.84,2.72 C38.935586,3.27463823 38.9757837,3.8374068 38.96,4.4 L38.96,5.46 C38.9916226,6.03689533 38.9100917,6.61440551 38.72,7.16 C38.5402933,7.53432344 38.2260614,7.82713037 37.84,7.98 C37.3049997,8.18709035 36.7332458,8.28238268 36.16,8.26 L35.31,8.26 L35.31,13.16 L32.13,13.16 L32.13,1 Z M35.29,3.08 L35.29,6.18 L35.53,6.18 C35.7515781,6.20532753 35.9725786,6.12797738 36.13,5.97 C36.2717869,5.69610033 36.3308522,5.38687568 36.3,5.08 L36.3,4.08 C36.3390022,3.79579475 36.2713114,3.5072181 36.11,3.27 C35.8671804,3.11299554 35.5771259,3.04578777 35.29,3.08 Z\"></path><path d=\"M42,4.36 L41.89,5.52 C42.28,4.69 43.67,4.42 44.41,4.37 L43.6,7.3 C43.2290559,7.27725357 42.8582004,7.34593052 42.52,7.5 C42.3057075,7.61238438 42.1519927,7.81367763 42.1,8.05 C42.0178205,8.59259006 41.9843538,9.14144496 42,9.69 L42,13.16 L39.34,13.16 L39.34,4.36 L42,4.36 Z\"></path><path d=\"M51.63,9.71 C51.6472876,10.3265292 51.6003682,10.9431837 51.49,11.55 C51.376862,11.9620426 51.1639158,12.3398504 50.87,12.65 C50.5352227,13.001529 50.1148049,13.2599826 49.65,13.4 C49.0994264,13.5686585 48.5257464,13.6496486 47.95,13.64 C47.3333389,13.6524659 46.7178074,13.5818311 46.12,13.43 C45.6996896,13.322764 45.3140099,13.1092627 45,12.81 C44.7275808,12.5275876 44.5254637,12.1850161 44.41,11.81 C44.2627681,11.2181509 44.1921903,10.6098373 44.2,10 L44.2,7.64 C44.1691064,6.9584837 44.2780071,6.27785447 44.52,5.64 C44.7547114,5.12751365 45.1616363,4.71351186 45.67,4.47 C46.3337168,4.13941646 47.0688388,3.97796445 47.81,4 C48.4454888,3.98667568 49.0783958,4.08482705 49.68,4.29 C50.1352004,4.42444561 50.5506052,4.66819552 50.89,5 C51.1535526,5.26601188 51.3550281,5.58700663 51.48,5.94 C51.6001358,6.42708696 51.6506379,6.92874119 51.63,7.43 L51.63,9.71 Z M48.39,6.73 C48.412199,6.42705368 48.3817488,6.12255154 48.3,5.83 C48.2091142,5.71223121 48.0687606,5.64325757 47.92,5.64325757 C47.7712394,5.64325757 47.6308858,5.71223121 47.54,5.83 C47.447616,6.12046452 47.4136298,6.42634058 47.44,6.73 L47.44,10.93 C47.4168299,11.2204468 47.4508034,11.5126191 47.54,11.79 C47.609766,11.9270995 47.7570827,12.0067302 47.91,11.99 C48.0639216,12.0108082 48.2159732,11.9406305 48.3,11.81 C48.3790864,11.5546009 48.4096133,11.2866434 48.39,11.02 L48.39,6.73 Z\"></path></g></svg></div></a></div></div><div class=\"Root__Separator-sc-7p0yen-1 cECatH\"></div><div class=\"NavWatchlistButton-sc-1b65w5j-0 kaVyhF imdb-header__watchlist-button\"><a aria-disabled=\"false\" class=\"ipc-button ipc-button--single-padding ipc-button--default-height ipc-button--core-baseAlt ipc-button--theme-baseAlt ipc-button--on-textPrimary ipc-text-button\" href=\"/list/watchlist?ref_=nv_usr_wl_all_0\" role=\"button\" tabindex=\"0\"><svg class=\"ipc-icon ipc-icon--watchlist ipc-button__icon ipc-button__icon--pre\" fill=\"currentColor\" height=\"24\" role=\"presentation\" viewbox=\"0 0 24 24\" width=\"24\" xmlns=\"http://www.w3.org/2000/svg\"><path d=\"M17 3c1.05 0 1.918.82 1.994 1.851L19 5v16l-7-3-7 3V5c0-1.05.82-1.918 1.851-1.994L7 3h10zm-4 4h-2v3H8v2h3v3h2v-3h3v-2h-3V7z\" fill=\"currentColor\"></path></svg><div class=\"ipc-button__text\">Watchlist</div></a></div><div class=\"_3x17Igk9XRXcaKrcG3_MXQ navbar__user UserMenu-sc-1poz515-0 eIWOUD\"><a aria-disabled=\"false\" class=\"ipc-button ipc-button--single-padding ipc-button--default-height ipc-button--core-baseAlt ipc-button--theme-baseAlt ipc-button--on-textPrimary ipc-text-button imdb-header__signin-text\" href=\"/registration/signin?ref=nv_generic_lgin\" role=\"button\" tabindex=\"0\"><div class=\"ipc-button__text\">Sign In</div></a></div></div></nav><svg style=\"width:0;height:0;overflow:hidden;display:block\" version=\"1.1\" xmlns=\"http://www.w3.org/2000/svg\"><defs><lineargradient id=\"ipc-svg-gradient-tv-logo-t\" x1=\"31.973%\" x2=\"153.413%\" y1=\"53.409%\" y2=\"-16.853%\"><stop offset=\"21.89%\" stop-color=\"#D01F49\"></stop><stop offset=\"83.44%\" stop-color=\"#E8138B\"></stop></lineargradient><lineargradient id=\"ipc-svg-gradient-tv-logo-v\" x1=\"-38.521%\" x2=\"104.155%\" y1=\"84.997%\" y2=\"14.735%\"><stop offset=\"21.89%\" stop-color=\"#D01F49\"></stop><stop offset=\"83.44%\" stop-color=\"#E8138B\"></stop></lineargradient></defs></svg>\n",
      "</div>\n"
     ]
    }
   ],
   "source": [
    "movie = soup.find(\"div\")\n",
    "print(movie)"
   ]
  },
  {
   "cell_type": "code",
   "execution_count": 43,
   "metadata": {},
   "outputs": [
    {
     "name": "stdout",
     "output_type": "stream",
     "text": [
      "<div class=\"lister-item mode-detail\">\n",
      "<div class=\"lister-item-image ribbonize\" data-tconst=\"tt8111088\">\n",
      "<a href=\"/title/tt8111088/\"> <img alt=\"The Mandalorian\" class=\"loadlate\" data-tconst=\"tt8111088\" height=\"209\" loadlate=\"https://m.media-amazon.com/images/M/MV5BZDhlMzY0ZGItZTcyNS00ZTAxLWIyMmYtZGQ2ODg5OWZiYmJkXkEyXkFqcGdeQXVyODkzNTgxMDg@._V1_UY209_CR0,0,140,209_AL_.jpg\" src=\"https://m.media-amazon.com/images/G/01/imdb/images/nopicture/large/film-184890147._CB466725069_.png\" width=\"140\"/>\n",
      "</a> </div>\n",
      "<div class=\"lister-item-content\">\n",
      "<h3 class=\"lister-item-header\">\n",
      "<span class=\"lister-item-index unbold text-primary\">1.</span>\n",
      "<a href=\"/title/tt8111088/\">The Mandalorian</a>\n",
      "<span class=\"lister-item-year text-muted unbold\">(2019– )</span>\n",
      "</h3>\n",
      "<p class=\"text-muted text-small\">\n",
      "<span class=\"certificate\">G</span>\n",
      "<span class=\"ghost\">|</span>\n",
      "<span class=\"runtime\">40 min</span>\n",
      "<span class=\"ghost\">|</span>\n",
      "<span class=\"genre\">\n",
      "Action, Adventure, Sci-Fi            </span>\n",
      "</p>\n",
      "<div class=\"ratings-bar\">\n",
      "<div class=\"inline-block ratings-imdb-rating\" data-value=\"8.8\" name=\"ir\">\n",
      "<span class=\"global-sprite rating-star imdb-rating\"></span>\n",
      "<strong>8.8</strong>\n",
      "</div>\n",
      "<div class=\"inline-block ratings-user-rating\">\n",
      "<span class=\"userRatingValue\" data-tconst=\"tt8111088\" id=\"urv_tt8111088\">\n",
      "<span class=\"global-sprite rating-star no-rating\"></span>\n",
      "<span class=\"rate\" data-no-rating=\"Rate this\" data-value=\"0\" name=\"ur\">Rate this</span>\n",
      "</span>\n",
      "<div class=\"starBarWidget\" id=\"sb_tt8111088\">\n",
      "<div class=\"rating rating-list\" data-auth=\"\" data-ga-identifier=\"\" data-starbar-class=\"rating-list\" data-user=\"\" id=\"tt8111088|imdb|8.8|8.8|kw_li_tt||search|keyword\" itemprop=\"aggregateRating\" itemscope=\"\" itemtype=\"http://schema.org/AggregateRating\" title=\"Users rated this 8.8/10 (259,323 votes) - click stars to rate\">\n",
      "<meta content=\"8.8\" itemprop=\"ratingValue\"/>\n",
      "<meta content=\"10\" itemprop=\"bestRating\"/>\n",
      "<meta content=\"259323\" itemprop=\"ratingCount\"/>\n",
      "<span class=\"rating-bg\"> </span>\n",
      "<span class=\"rating-imdb\" style=\"width: 123.2px\"> </span>\n",
      "<span class=\"rating-stars\">\n",
      "<a href=\"/register/login?why=vote\" rel=\"nofollow\" title=\"Register or login to rate this title\"><span>1</span></a>\n",
      "<a href=\"/register/login?why=vote\" rel=\"nofollow\" title=\"Register or login to rate this title\"><span>2</span></a>\n",
      "<a href=\"/register/login?why=vote\" rel=\"nofollow\" title=\"Register or login to rate this title\"><span>3</span></a>\n",
      "<a href=\"/register/login?why=vote\" rel=\"nofollow\" title=\"Register or login to rate this title\"><span>4</span></a>\n",
      "<a href=\"/register/login?why=vote\" rel=\"nofollow\" title=\"Register or login to rate this title\"><span>5</span></a>\n",
      "<a href=\"/register/login?why=vote\" rel=\"nofollow\" title=\"Register or login to rate this title\"><span>6</span></a>\n",
      "<a href=\"/register/login?why=vote\" rel=\"nofollow\" title=\"Register or login to rate this title\"><span>7</span></a>\n",
      "<a href=\"/register/login?why=vote\" rel=\"nofollow\" title=\"Register or login to rate this title\"><span>8</span></a>\n",
      "<a href=\"/register/login?why=vote\" rel=\"nofollow\" title=\"Register or login to rate this title\"><span>9</span></a>\n",
      "<a href=\"/register/login?why=vote\" rel=\"nofollow\" title=\"Register or login to rate this title\"><span>10</span></a>\n",
      "</span>\n",
      "<span class=\"rating-rating\"><span class=\"value\">8.8</span><span class=\"grey\">/</span><span class=\"grey\">10</span></span>\n",
      "<span class=\"rating-cancel\"><a href=\"/title/tt8111088/vote?v=X;k=\" rel=\"nofollow\" title=\"Delete\"><span>X</span></a></span>\n",
      " </div>\n",
      "</div>\n",
      "</div>\n",
      "</div>\n",
      "<p class=\"\">\n",
      "    The travels of a lone bounty hunter in the outer reaches of the galaxy, far from the authority of the New Republic.</p>\n",
      "<p class=\"text-muted text-small\">\n",
      "            \n",
      "    Stars:\n",
      "<a href=\"/name/nm0050959/\">Pedro Pascal</a>, \n",
      "<a href=\"/name/nm2442289/\">Gina Carano</a>, \n",
      "<a href=\"/name/nm0002064/\">Giancarlo Esposito</a>, \n",
      "<a href=\"/name/nm2322864/\">Chris Bartlett</a>\n",
      "</p>\n",
      "<p class=\"text-muted text-small\">\n",
      "<span class=\"text-muted\">Votes:</span>\n",
      "<span data-value=\"259323\" name=\"nv\">259,323</span>\n",
      "</p>\n",
      "</div>\n",
      "<div class=\"clear\"></div>\n",
      "</div>\n"
     ]
    }
   ],
   "source": [
    "movie = soup.find(\"div\", {\"class\": \"lister-item mode-detail\"})\n",
    "print(movie)"
   ]
  },
  {
   "cell_type": "code",
   "execution_count": 44,
   "metadata": {},
   "outputs": [
    {
     "data": {
      "text/plain": [
       "<h3 class=\"lister-item-header\">\n",
       "<span class=\"lister-item-index unbold text-primary\">1.</span>\n",
       "<a href=\"/title/tt8111088/\">The Mandalorian</a>\n",
       "<span class=\"lister-item-year text-muted unbold\">(2019– )</span>\n",
       "</h3>"
      ]
     },
     "execution_count": 44,
     "metadata": {},
     "output_type": "execute_result"
    }
   ],
   "source": [
    "movie.find(\"h3\", {\"class\": \"lister-item-header\"})"
   ]
  },
  {
   "cell_type": "code",
   "execution_count": 45,
   "metadata": {},
   "outputs": [
    {
     "data": {
      "text/plain": [
       "<a href=\"/title/tt8111088/\">The Mandalorian</a>"
      ]
     },
     "execution_count": 45,
     "metadata": {},
     "output_type": "execute_result"
    }
   ],
   "source": [
    "movie.find(\"h3\", {\"class\": \"lister-item-header\"}).find(\"a\")"
   ]
  },
  {
   "cell_type": "code",
   "execution_count": 47,
   "metadata": {},
   "outputs": [
    {
     "data": {
      "text/plain": [
       "'The Mandalorian'"
      ]
     },
     "execution_count": 47,
     "metadata": {},
     "output_type": "execute_result"
    }
   ],
   "source": [
    "title = movie.find(\"h3\", {\"class\": \"lister-item-header\"}).find(\"a\").text\n",
    "title"
   ]
  },
  {
   "cell_type": "code",
   "execution_count": 53,
   "metadata": {},
   "outputs": [
    {
     "data": {
      "text/plain": [
       "<p class=\"text-muted text-small\">\n",
       "            \n",
       "    Stars:\n",
       "<a href=\"/name/nm0050959/\">Pedro Pascal</a>, \n",
       "<a href=\"/name/nm2442289/\">Gina Carano</a>, \n",
       "<a href=\"/name/nm0002064/\">Giancarlo Esposito</a>, \n",
       "<a href=\"/name/nm2322864/\">Chris Bartlett</a>\n",
       "</p>"
      ]
     },
     "execution_count": 53,
     "metadata": {},
     "output_type": "execute_result"
    }
   ],
   "source": [
    "movie.find_all(\"p\", {\"class\": \"text-muted text-small\"})[1]"
   ]
  },
  {
   "cell_type": "code",
   "execution_count": 54,
   "metadata": {},
   "outputs": [
    {
     "data": {
      "text/plain": [
       "'Pedro Pascal'"
      ]
     },
     "execution_count": 54,
     "metadata": {},
     "output_type": "execute_result"
    }
   ],
   "source": [
    "director = movie.find_all(\"p\", {\"class\": \"text-muted text-small\"})[1].find(\"a\").text\n",
    "director"
   ]
  },
  {
   "cell_type": "code",
   "execution_count": 55,
   "metadata": {},
   "outputs": [
    {
     "data": {
      "text/plain": [
       "<p class=\"text-muted text-small\">\n",
       "<span class=\"text-muted\">Votes:</span>\n",
       "<span data-value=\"259323\" name=\"nv\">259,323</span>\n",
       "</p>"
      ]
     },
     "execution_count": 55,
     "metadata": {},
     "output_type": "execute_result"
    }
   ],
   "source": [
    "movie.find_all(\"p\", {\"class\": \"text-muted text-small\"})[2]"
   ]
  },
  {
   "cell_type": "code",
   "execution_count": null,
   "metadata": {},
   "outputs": [],
   "source": [
    "gross = "
   ]
  },
  {
   "cell_type": "code",
   "execution_count": null,
   "metadata": {},
   "outputs": [],
   "source": []
  },
  {
   "cell_type": "code",
   "execution_count": null,
   "metadata": {},
   "outputs": [],
   "source": []
  },
  {
   "cell_type": "code",
   "execution_count": null,
   "metadata": {},
   "outputs": [],
   "source": []
  },
  {
   "cell_type": "code",
   "execution_count": null,
   "metadata": {},
   "outputs": [],
   "source": []
  },
  {
   "cell_type": "code",
   "execution_count": null,
   "metadata": {},
   "outputs": [],
   "source": []
  },
  {
   "cell_type": "code",
   "execution_count": null,
   "metadata": {},
   "outputs": [],
   "source": []
  }
 ],
 "metadata": {
  "kernelspec": {
   "display_name": "Python 3",
   "language": "python",
   "name": "python3"
  },
  "language_info": {
   "codemirror_mode": {
    "name": "ipython",
    "version": 3
   },
   "file_extension": ".py",
   "mimetype": "text/x-python",
   "name": "python",
   "nbconvert_exporter": "python",
   "pygments_lexer": "ipython3",
   "version": "3.8.3"
  }
 },
 "nbformat": 4,
 "nbformat_minor": 1
}
